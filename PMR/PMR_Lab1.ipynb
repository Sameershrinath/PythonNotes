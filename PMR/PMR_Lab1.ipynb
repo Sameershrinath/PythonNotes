{
 "cells": [
  {
   "cell_type": "markdown",
   "metadata": {},
   "source": [
    "# **Lab 1**"
   ]
  },
  {
   "cell_type": "markdown",
   "metadata": {},
   "source": [
    "## **Rolling a Multiple Dice**"
   ]
  },
  {
   "cell_type": "code",
   "execution_count": 3,
   "metadata": {},
   "outputs": [
    {
     "name": "stdout",
     "output_type": "stream",
     "text": [
      "simulated 1000 rolls of six-sided die \n",
      "Probability of rolling a 1: 0.1740\n",
      "Probability of rolling a 2: 0.1740\n",
      "Probability of rolling a 3: 0.1660\n",
      "Probability of rolling a 4: 0.1650\n",
      "Probability of rolling a 5: 0.1500\n",
      "Probability of rolling a 6: 0.1710\n"
     ]
    }
   ],
   "source": [
    "import random\n",
    "\n",
    "#Difining the function to simulate the rolling a fair six-sided die\n",
    "def roll_die():\n",
    "    return random.randint(1,6)\n",
    "\n",
    "#Simulate the rolling die 10,000 times\n",
    "def simulate_rolls(num_rolls):\n",
    "    results=[roll_die() for _ in range(num_rolls)]\n",
    "    return results\n",
    "\n",
    "#calculate the probability of each outcome\n",
    "def calculate_probabilities(results):\n",
    "    probabilities={}\n",
    "    total_rolls=len(results)\n",
    "\n",
    "    for outcome in range(1,7):\n",
    "        count=results.count(outcome)\n",
    "        probabilities[outcome]=count/total_rolls\n",
    "\n",
    "    return probabilities\n",
    "\n",
    "#main function\n",
    "if __name__ == \"__main__\":\n",
    "    num_rolls=1000\n",
    "    results=simulate_rolls(num_rolls)\n",
    "    probabilities=calculate_probabilities(results)\n",
    "\n",
    "    print(f\"simulated {num_rolls} rolls of six-sided die \")\n",
    "    for outcome, probability in probabilities.items():\n",
    "        print(f\"Probability of rolling a {outcome}: {probability:.4f}\") "
   ]
  },
  {
   "cell_type": "markdown",
   "metadata": {},
   "source": [
    "## **Rolling a single dice**"
   ]
  },
  {
   "cell_type": "code",
   "execution_count": 4,
   "metadata": {},
   "outputs": [
    {
     "name": "stdout",
     "output_type": "stream",
     "text": [
      "you rolled a 3.\n"
     ]
    }
   ],
   "source": [
    "import random\n",
    "#define a function to simulate rolling a single simulated dice\n",
    "def roll_die():\n",
    "    return random.randint(1,6)\n",
    "\n",
    "if __name__ == \"__main__\":\n",
    "    result=roll_die()\n",
    "    print(f\"you rolled a {result}.\")"
   ]
  },
  {
   "cell_type": "code",
   "execution_count": 5,
   "metadata": {},
   "outputs": [],
   "source": [
    "#Simulate the rolling die 10,000 times\n",
    "def simulate_rolls(num_rolls):\n",
    "    results=[roll_die() for _ in range(num_rolls)]\n",
    "    return results"
   ]
  },
  {
   "cell_type": "code",
   "execution_count": 6,
   "metadata": {},
   "outputs": [],
   "source": []
  },
  {
   "cell_type": "code",
   "execution_count": null,
   "metadata": {},
   "outputs": [],
   "source": []
  },
  {
   "cell_type": "code",
   "execution_count": 3,
   "metadata": {},
   "outputs": [],
   "source": []
  },
  {
   "cell_type": "code",
   "execution_count": 34,
   "metadata": {},
   "outputs": [],
   "source": [
    "\n"
   ]
  },
  {
   "cell_type": "code",
   "execution_count": null,
   "metadata": {},
   "outputs": [],
   "source": []
  },
  {
   "cell_type": "code",
   "execution_count": null,
   "metadata": {},
   "outputs": [],
   "source": []
  },
  {
   "cell_type": "code",
   "execution_count": null,
   "metadata": {},
   "outputs": [],
   "source": []
  }
 ],
 "metadata": {
  "kernelspec": {
   "display_name": "base",
   "language": "python",
   "name": "python3"
  },
  "language_info": {
   "codemirror_mode": {
    "name": "ipython",
    "version": 3
   },
   "file_extension": ".py",
   "mimetype": "text/x-python",
   "name": "python",
   "nbconvert_exporter": "python",
   "pygments_lexer": "ipython3",
   "version": "3.11.5"
  }
 },
 "nbformat": 4,
 "nbformat_minor": 2
}
