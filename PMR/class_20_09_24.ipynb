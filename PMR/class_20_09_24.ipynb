{
 "cells": [
  {
   "cell_type": "markdown",
   "metadata": {},
   "source": [
    "Statistics\n",
    "1. Descriptive\n",
    "2. Inferential\n",
    "\n",
    "\n",
    "1. Descriptive statistics basically include organizing and summerizing data Mean, Median and mode\n",
    "age_class= [19,20,21,22,23]\n",
    "finding the mean of the age_class.\n",
    "\n",
    "2. From inferential we can have some conclusion.\n",
    "Average  mean of B1 class depends upon the average mean of University Studnet\n"
   ]
  },
  {
   "cell_type": "markdown",
   "metadata": {},
   "source": [
    "## Mean "
   ]
  },
  {
   "cell_type": "code",
   "execution_count": 1,
   "metadata": {},
   "outputs": [
    {
     "name": "stdout",
     "output_type": "stream",
     "text": [
      "The mean of student is 6.0\n"
     ]
    }
   ],
   "source": [
    "#Calculate the mean of students\n",
    "student1=6\n",
    "student2=4\n",
    "student3=8\n",
    "student4=3\n",
    "student5=9\n",
    "\n",
    "mean=(student1+student2+student3+student4+student5)/5\n",
    "\n",
    "print(f'The mean of student is {mean}')"
   ]
  },
  {
   "cell_type": "markdown",
   "metadata": {},
   "source": [
    "## Median"
   ]
  },
  {
   "cell_type": "markdown",
   "metadata": {},
   "source": [
    "### Example 1 (Odd number of values)\n",
    "Consider the list of numbers:  \n",
    "`[5, 7, 9, 12, 15]`\n",
    "\n",
    "- First, arrange the numbers in ascending order (already arranged in this case).\n",
    "- Since there are 5 numbers, the median is the middle number.\n",
    "\n",
    "**Median = 9**\n",
    "\n",
    "---\n",
    "\n",
    "### Example 2 (Even number of values)\n",
    "Consider the list of numbers:  \n",
    "`[3, 8, 10, 15]`\n",
    "\n",
    "- First, arrange the numbers in ascending order (already arranged here).\n",
    "- Since there are 4 numbers, the median is the average of the two middle numbers.\n",
    "\n",
    "**Median = (8 + 10) / 2 = 9**\n"
   ]
  },
  {
   "cell_type": "markdown",
   "metadata": {},
   "source": [
    "## Mode"
   ]
  },
  {
   "cell_type": "markdown",
   "metadata": {},
   "source": [
    "### Mode Example\n",
    "\n",
    "The **mode** is the value that appears most frequently in a set of numbers.\n",
    "\n",
    "#### Example 1 (Single Mode)\n",
    "Consider the list of numbers:  \n",
    "`[3, 7, 8, 8, 10]`\n",
    "\n",
    "- The number **8** appears twice, more than any other number.\n",
    "  \n",
    "**Mode = 8**\n",
    "\n",
    "---\n",
    "\n",
    "#### Example 2 (No Mode)\n",
    "Consider the list of numbers:  \n",
    "`[1, 2, 3, 4, 5]`\n",
    "\n",
    "- No number repeats, so there is no mode in this set.\n",
    "  \n",
    "**No Mode**\n",
    "\n",
    "---\n",
    "\n",
    "#### Example 3 (Multiple Modes)\n",
    "Consider the list of numbers:  \n",
    "`[2, 4, 4, 6, 6, 8]`\n",
    "\n",
    "- The numbers **4** and **6** both appear twice.\n",
    "\n",
    "**Mode = 4, 6 (Bimodal)**\n"
   ]
  },
  {
   "cell_type": "markdown",
   "metadata": {},
   "source": [
    "## Example Dot plot"
   ]
  },
  {
   "cell_type": "markdown",
   "metadata": {},
   "source": [
    "## 45 students scored more than 90% marks in various subjects for class 12 board examination.\n"
   ]
  },
  {
   "cell_type": "code",
   "execution_count": 27,
   "metadata": {},
   "outputs": [
    {
     "name": "stderr",
     "output_type": "stream",
     "text": [
      "C:\\Users\\Samee\\AppData\\Local\\Temp\\ipykernel_8628\\3481392643.py:10: FutureWarning: Passing `palette` without assigning `hue` is deprecated.\n",
      "  sns.stripplot(score, size=8, jitter=True, palette='Set1')\n",
      "c:\\Users\\Samee\\anaconda3\\Lib\\site-packages\\seaborn\\_oldcore.py:1119: FutureWarning: use_inf_as_na option is deprecated and will be removed in a future version. Convert inf values to NaN before operating instead.\n",
      "  with pd.option_context('mode.use_inf_as_na', True):\n",
      "c:\\Users\\Samee\\anaconda3\\Lib\\site-packages\\seaborn\\_oldcore.py:1119: FutureWarning: use_inf_as_na option is deprecated and will be removed in a future version. Convert inf values to NaN before operating instead.\n",
      "  with pd.option_context('mode.use_inf_as_na', True):\n"
     ]
    },
    {
     "data": {
      "image/png": "[encoded data removed]",
      "text/plain": [
       "<Figure size 800x600 with 1 Axes>"
      ]
     },
     "metadata": {},
     "output_type": "display_data"
    }
   ],
   "source": [
    "import matplotlib.pyplot as plt\n",
    "import numpy as np\n",
    "import seaborn as sns\n",
    "\n",
    "# Generate random scores for 45 students between 91 and 100\n",
    "score = np.random.randint(91, 100, size=45)\n",
    "\n",
    "# Create the plot\n",
    "plt.figure(figsize=(8,6))\n",
    "sns.stripplot(score, size=8, jitter=True, palette='Set1')\n",
    "\n",
    "# Add labels and title\n",
    "plt.title('Strip Plot of Scores', size=10)\n",
    "plt.ylabel('Scores')\n",
    "\n",
    "# Show the plot\n",
    "plt.show()\n"
   ]
  },
  {
   "cell_type": "code",
   "execution_count": 39,
   "metadata": {},
   "outputs": [
    {
     "data": {
      "text/plain": [
       "8"
      ]
     },
     "execution_count": 39,
     "metadata": {},
     "output_type": "execute_result"
    }
   ],
   "source": [
    "num=[1,2,2,1,3,3,4,5,5,5,6,6,6,6,7,8,8,9,27]\n",
    "n=len(num)\n",
    "Q1=int((25/100)*(n+1))\n",
    "Q3=int((75/100)*(n+1))\n",
    "\n",
    "# IQR=Q3-Q1\n",
    "# lower fence- Q1-1.5(IQR)\n",
    "# upper fence- Q3+1.5(IQR)\n",
    "#Q1= 3\n",
    "# Q2= 7\n",
    "# Median=5\n",
    "# minimum=1\n",
    "# maximum= 9\n",
    "\n"
   ]
  },
  {
   "cell_type": "code",
   "execution_count": null,
   "metadata": {},
   "outputs": [],
   "source": []
  },
  {
   "cell_type": "code",
   "execution_count": null,
   "metadata": {},
   "outputs": [],
   "source": []
  },
  {
   "cell_type": "code",
   "execution_count": null,
   "metadata": {},
   "outputs": [],
   "source": []
  }
 ],
 "metadata": {
  "kernelspec": {
   "display_name": "base",
   "language": "python",
   "name": "python3"
  },
  "language_info": {
   "codemirror_mode": {
    "name": "ipython",
    "version": 3
   },
   "file_extension": ".py",
   "mimetype": "text/x-python",
   "name": "python",
   "nbconvert_exporter": "python",
   "pygments_lexer": "ipython3",
   "version": "3.11.5"
  }
 },
 "nbformat": 4,
 "nbformat_minor": 2
}
