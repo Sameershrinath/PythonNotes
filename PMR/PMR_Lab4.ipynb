{
 "cells": [
  {
   "cell_type": "markdown",
   "metadata": {},
   "source": [
    "# **Sampling Techniques**"
   ]
  },
  {
   "cell_type": "markdown",
   "metadata": {},
   "source": [
    "## **Stratified Sampling**"
   ]
  },
  {
   "cell_type": "markdown",
   "metadata": {},
   "source": [
    "In stratified sampling,we divide the population into distinct subgroup (strata) and sample a fixed number of items from each stratum."
   ]
  },
  {
   "cell_type": "code",
   "execution_count": 13,
   "metadata": {},
   "outputs": [
    {
     "name": "stdout",
     "output_type": "stream",
     "text": [
      "stratified Sample: \n",
      "   category  value\n",
      "0        A     10\n",
      "3        B     25\n",
      "9        C     55\n"
     ]
    }
   ],
   "source": [
    "import pandas as pd\n",
    "\n",
    "#sample data\n",
    "data={'category': ['A','A','B','B','C','C','A','B','C','C'],\n",
    "'value':[10,15,20,25,30,35,40,45,50,55]}\n",
    "\n",
    "df=pd.DataFrame(data)\n",
    "\n",
    "# Stratifie sampling: Sample 1 item from each category\n",
    "def stratified_sampling(df,stratify_by,n_samples):\n",
    "    return df.groupby(stratify_by,group_keys=False).apply(lambda x:x.sample(n=n_samples))\n",
    "#Get 1 sample from each category\n",
    "stratified_sample=stratified_sampling(df,'category',1)\n",
    "print(\"stratified Sample: \\n\",stratified_sample)"
   ]
  },
  {
   "cell_type": "markdown",
   "metadata": {},
   "source": [
    "## **Cluster Sampling**"
   ]
  },
  {
   "cell_type": "markdown",
   "metadata": {},
   "source": [
    "In Cluster Sampling, the population is divided into clusters,and entire cluster are randomly selected."
   ]
  },
  {
   "cell_type": "code",
   "execution_count": 9,
   "metadata": {},
   "outputs": [
    {
     "name": "stdout",
     "output_type": "stream",
     "text": [
      "\n",
      "Cluster Sample:\n",
      "   cluster  value\n",
      "0       X     10\n",
      "1       X     15\n",
      "2       Y     20\n",
      "3       Y     25\n",
      "6       X     40\n",
      "7       Y     45\n"
     ]
    }
   ],
   "source": [
    "import pandas as pd\n",
    "import numpy as np \n",
    "\n",
    "#sample data\n",
    "data={'cluster':['X','X','Y','Y','Z','Z','X','Y','Z','Z'],\n",
    "      'value':[10,15,20,25,30,35,40,45,50,55]}\n",
    "df=pd.DataFrame(data)\n",
    "\n",
    "#cluster sampling: Randomly select cluster\n",
    "def cluster_sampling(df,cluster_by,n_clusters):\n",
    "    sampled_clusters=np.random.choice(df[cluster_by].unique(),n_clusters,replace=False)\n",
    "    return df[df[cluster_by].isin(sampled_clusters)]\n",
    "\n",
    "#sample 2 Clusters\n",
    "cluster_sample=cluster_sampling(df,'cluster',2)\n",
    "print('\\nCluster Sample:\\n', cluster_sample)\n"
   ]
  },
  {
   "cell_type": "markdown",
   "metadata": {},
   "source": [
    "## **Systematic Sampling:**"
   ]
  },
  {
   "cell_type": "markdown",
   "metadata": {},
   "source": [
    "In systematic sampling,we select entry k-th item from a list after a random starting point."
   ]
  },
  {
   "cell_type": "code",
   "execution_count": 10,
   "metadata": {},
   "outputs": [
    {
     "name": "stdout",
     "output_type": "stream",
     "text": [
      "\n",
      " Systematic Sample:\n",
      "    value\n",
      "0     10\n",
      "2     20\n",
      "4     30\n",
      "6     40\n",
      "8     50\n"
     ]
    }
   ],
   "source": [
    "import pandas as pd\n",
    "#sample Data\n",
    "data= {'value':[10,15,20,25,30,35,40,45,50,55]}\n",
    "df=pd.DataFrame(data)\n",
    "\n",
    "#systematic Sampling: Select every k-th item\n",
    "def systematic_sampling(df,step):\n",
    "    return df.iloc[::step]\n",
    "\n",
    "\n",
    "#select every 2nd item\n",
    "systematic_sample=systematic_sampling(df,2)\n",
    "print('\\n Systematic Sample:\\n',systematic_sample)"
   ]
  },
  {
   "cell_type": "markdown",
   "metadata": {},
   "source": [
    "## **Convenience Sampling:**"
   ]
  },
  {
   "cell_type": "markdown",
   "metadata": {},
   "source": [
    "In convenience sampling,we select samples that are easiest to access, like the first few rows of a dataset.\n"
   ]
  },
  {
   "cell_type": "code",
   "execution_count": 11,
   "metadata": {},
   "outputs": [
    {
     "name": "stdout",
     "output_type": "stream",
     "text": [
      "\n",
      "Cnvenience Sample:\n",
      "    value\n",
      "0     10\n",
      "1     15\n",
      "2     20\n"
     ]
    }
   ],
   "source": [
    "import pandas as pd\n",
    "#sample data\n",
    "data={'value':[10,15,20,25,30,35,40,45,50,55]}\n",
    "\n",
    "\n",
    "#convenience sampling : Select the first few samples\n",
    "\n",
    "def convenience_sampling(df,n_samples):\n",
    "    return df.head(n_samples)\n",
    "\n",
    "#select the first 3 item\n",
    "convenience_sample=convenience_sampling(df,3)\n",
    "print(\"\\nCnvenience Sample:\\n\",convenience_sample)"
   ]
  }
 ],
 "metadata": {
  "kernelspec": {
   "display_name": "base",
   "language": "python",
   "name": "python3"
  },
  "language_info": {
   "codemirror_mode": {
    "name": "ipython",
    "version": 3
   },
   "file_extension": ".py",
   "mimetype": "text/x-python",
   "name": "python",
   "nbconvert_exporter": "python",
   "pygments_lexer": "ipython3",
   "version": "3.11.5"
  }
 },
 "nbformat": 4,
 "nbformat_minor": 2
}
