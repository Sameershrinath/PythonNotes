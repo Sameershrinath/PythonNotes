{
 "cells": [
  {
   "cell_type": "code",
   "execution_count": 6,
   "id": "3f61a5b6-986a-43f9-8794-16b4ca6c1f18",
   "metadata": {},
   "outputs": [
    {
     "ename": "NameError",
     "evalue": "name 'm' is not defined",
     "output_type": "error",
     "traceback": [
      "\u001b[1;31m---------------------------------------------------------------------------\u001b[0m",
      "\u001b[1;31mNameError\u001b[0m                                 Traceback (most recent call last)",
      "Cell \u001b[1;32mIn[6], line 1\u001b[0m\n\u001b[1;32m----> 1\u001b[0m dp \u001b[38;5;241m=\u001b[39m [[\u001b[38;5;241m0\u001b[39m] \u001b[38;5;241m*\u001b[39m (n \u001b[38;5;241m+\u001b[39m \u001b[38;5;241m1\u001b[39m) \u001b[38;5;28;01mfor\u001b[39;00m _ \u001b[38;5;129;01min\u001b[39;00m \u001b[38;5;28mrange\u001b[39m(m \u001b[38;5;241m+\u001b[39m \u001b[38;5;241m1\u001b[39m)]\n",
      "\u001b[1;31mNameError\u001b[0m: name 'm' is not defined"
     ]
    }
   ],
   "source": [
    "dp = [[0] * (n + 1) for _ in range(m + 1)]"
   ]
  },
  {
   "cell_type": "code",
   "execution_count": 12,
   "id": "7e3408c8-578d-45b9-9832-6855236cab2d",
   "metadata": {},
   "outputs": [
    {
     "name": "stdout",
     "output_type": "stream",
     "text": [
      "sam\n",
      "eer\n"
     ]
    }
   ],
   "source": [
    "l=['sam','eer']\n",
    "for i in l:\n",
    "    print(i)"
   ]
  },
  {
   "cell_type": "code",
   "execution_count": 35,
   "id": "57d61003-01ba-42d4-908f-117767bf313d",
   "metadata": {},
   "outputs": [
    {
     "name": "stdout",
     "output_type": "stream",
     "text": [
      "sameer"
     ]
    }
   ],
   "source": [
    "for j in l:\n",
    "    print(j,end='')"
   ]
  },
  {
   "cell_type": "code",
   "execution_count": 28,
   "id": "7ce8154d-53ed-4fff-80b3-0a6d3f2b67d7",
   "metadata": {},
   "outputs": [],
   "source": [
    "a='sameer shrianth'\n",
    "def listm(data):\n",
    "    pro=[]\n",
    "    for i in data:\n",
    "        if i==' ':\n",
    "            pass\n",
    "        else:\n",
    "            pro.append(i)\n",
    "    return pro"
   ]
  },
  {
   "cell_type": "code",
   "execution_count": 29,
   "id": "2ed40f57-f556-4679-a62d-ce08e27e28f5",
   "metadata": {},
   "outputs": [
    {
     "data": {
      "text/plain": [
       "['s', 'a', 'm', 'e', 'e', 'r', 's', 'h', 'r', 'i', 'a', 'n', 't', 'h']"
      ]
     },
     "execution_count": 29,
     "metadata": {},
     "output_type": "execute_result"
    }
   ],
   "source": [
    "listm(a)"
   ]
  },
  {
   "cell_type": "code",
   "execution_count": 36,
   "id": "da22c6ac-3e01-46ef-940c-a09ac113538d",
   "metadata": {},
   "outputs": [],
   "source": [
    "class Solution:\n",
    "    def findMinCost(self, x, y, costX, costY):\n",
    "        m, n = len(x), len(y)\n",
    "        \n",
    "        # Initialize dp table\n",
    "        dp = [[0] * (n + 1) for _ in range(m + 1)]\n",
    "        \n",
    "        # Base cases\n",
    "        for i in range(1, m + 1):\n",
    "            dp[i][0] = i * costX\n",
    "        for j in range(1, n + 1):\n",
    "            dp[0][j] = j * costY\n",
    "        \n",
    "        # Fill the dp table\n",
    "        for i in range(1, m + 1):\n",
    "            for j in range(1, n + 1):\n",
    "                if x[i-1] == y[j-1]:\n",
    "                    dp[i][j] = dp[i-1][j-1]\n",
    "                else:\n",
    "                    dp[i][j] = min(dp[i-1][j] + costX,  # Delete from x\n",
    "                                   dp[i][j-1] + costY)  # Delete from y\n",
    "        \n",
    "        return dp[m][n]"
   ]
  },
  {
   "cell_type": "code",
   "execution_count": 39,
   "id": "c49c29b7-3422-4377-aed6-c8f4c0e50554",
   "metadata": {},
   "outputs": [
    {
     "name": "stdout",
     "output_type": "stream",
     "text": [
      "\n",
      "*\n",
      "**\n",
      "***\n",
      "****\n",
      "*****\n",
      "******\n",
      "*******\n",
      "********\n",
      "*********\n",
      "**********\n",
      "***********\n",
      "************\n",
      "*************\n",
      "**************\n",
      "***************\n",
      "****************\n",
      "*****************\n",
      "******************\n",
      "*******************\n",
      "********************\n",
      "*********************\n",
      "**********************\n",
      "***********************\n",
      "************************\n",
      "*************************\n",
      "**************************\n",
      "***************************\n",
      "****************************\n",
      "*****************************\n",
      "******************************\n",
      "*******************************\n",
      "********************************\n",
      "*********************************\n",
      "**********************************\n",
      "***********************************\n",
      "************************************\n",
      "*************************************\n",
      "**************************************\n",
      "***************************************\n",
      "****************************************\n",
      "*****************************************\n",
      "******************************************\n",
      "*******************************************\n",
      "********************************************\n",
      "*********************************************\n",
      "**********************************************\n",
      "***********************************************\n",
      "************************************************\n",
      "*************************************************\n",
      "**************************************************\n",
      "***************************************************\n",
      "****************************************************\n",
      "*****************************************************\n",
      "******************************************************\n",
      "*******************************************************\n",
      "********************************************************\n",
      "*********************************************************\n",
      "**********************************************************\n",
      "***********************************************************\n",
      "************************************************************\n",
      "*************************************************************\n",
      "**************************************************************\n",
      "***************************************************************\n",
      "****************************************************************\n",
      "*****************************************************************\n",
      "******************************************************************\n",
      "*******************************************************************\n",
      "********************************************************************\n",
      "*********************************************************************\n",
      "**********************************************************************\n",
      "***********************************************************************\n",
      "************************************************************************\n",
      "*************************************************************************\n",
      "**************************************************************************\n",
      "***************************************************************************\n",
      "****************************************************************************\n",
      "*****************************************************************************\n",
      "******************************************************************************\n",
      "*******************************************************************************\n",
      "********************************************************************************\n",
      "*********************************************************************************\n",
      "**********************************************************************************\n",
      "***********************************************************************************\n",
      "************************************************************************************\n",
      "*************************************************************************************\n",
      "**************************************************************************************\n",
      "***************************************************************************************\n",
      "****************************************************************************************\n",
      "*****************************************************************************************\n",
      "******************************************************************************************\n",
      "*******************************************************************************************\n",
      "********************************************************************************************\n",
      "*********************************************************************************************\n",
      "**********************************************************************************************\n",
      "***********************************************************************************************\n",
      "************************************************************************************************\n",
      "*************************************************************************************************\n",
      "**************************************************************************************************\n",
      "***************************************************************************************************\n"
     ]
    }
   ],
   "source": [
    "li=[1,2,3,4,5,7,8,9]\n",
    "for i in range(0,100):\n",
    "    print(i*'*')"
   ]
  },
  {
   "cell_type": "code",
   "execution_count": 40,
   "id": "e448e1bd-c89d-4594-94bf-35c8434344e8",
   "metadata": {},
   "outputs": [],
   "source": [
    "sam,hera=0,1"
   ]
  },
  {
   "cell_type": "code",
   "execution_count": 41,
   "id": "12de3bed-37c5-42e0-ba18-0edc177e8b96",
   "metadata": {},
   "outputs": [
    {
     "data": {
      "text/plain": [
       "0"
      ]
     },
     "execution_count": 41,
     "metadata": {},
     "output_type": "execute_result"
    }
   ],
   "source": [
    "sam"
   ]
  },
  {
   "cell_type": "code",
   "execution_count": 42,
   "id": "82544147-cedc-4e62-afa9-4d39071c147b",
   "metadata": {},
   "outputs": [
    {
     "data": {
      "text/plain": [
       "1"
      ]
     },
     "execution_count": 42,
     "metadata": {},
     "output_type": "execute_result"
    }
   ],
   "source": [
    "hera"
   ]
  },
  {
   "cell_type": "code",
   "execution_count": 4,
   "id": "684b76f5-0379-432a-ac57-d71e8023ba04",
   "metadata": {},
   "outputs": [],
   "source": [
    "class Person:\n",
    "    def __init__(self,fname,lname):\n",
    "        self.fname=fname\n",
    "        self.lname=lname\n",
    "    def printname(self):\n",
    "        print(f'The user name is {self.fname} {self.lname}')"
   ]
  },
  {
   "cell_type": "code",
   "execution_count": 5,
   "id": "4c959b02-ef6d-4dac-8c8c-05902dd2e2a1",
   "metadata": {},
   "outputs": [],
   "source": [
    "a=Person('sameer',\"shrinath\")"
   ]
  },
  {
   "cell_type": "code",
   "execution_count": 6,
   "id": "e265bd3c-a59d-4d68-a8fd-fcf85a6a6d87",
   "metadata": {},
   "outputs": [
    {
     "name": "stdout",
     "output_type": "stream",
     "text": [
      "The user name is sameer shrinath\n"
     ]
    }
   ],
   "source": [
    "a.printname()"
   ]
  },
  {
   "cell_type": "code",
   "execution_count": 7,
   "id": "ff3a8ee6-1f63-40cf-82ce-d72e732e8054",
   "metadata": {},
   "outputs": [],
   "source": [
    "b=Person('sonal','kumari')"
   ]
  },
  {
   "cell_type": "code",
   "execution_count": 8,
   "id": "9decf86b-913d-42e7-bce2-f91800af97e6",
   "metadata": {},
   "outputs": [
    {
     "name": "stdout",
     "output_type": "stream",
     "text": [
      "The user name is sonal kumari\n"
     ]
    }
   ],
   "source": [
    "b.printname()"
   ]
  },
  {
   "cell_type": "code",
   "execution_count": 9,
   "id": "25f0a201-5c60-4355-a715-7bc77cd630d6",
   "metadata": {},
   "outputs": [],
   "source": [
    "class Student(Person):\n",
    "    pass\n"
   ]
  },
  {
   "cell_type": "code",
   "execution_count": 10,
   "id": "fff7850c-c3d7-4d29-a3db-728cb714f4a7",
   "metadata": {},
   "outputs": [],
   "source": [
    "C=Student('shivani','kumari')\n"
   ]
  },
  {
   "cell_type": "code",
   "execution_count": 11,
   "id": "a4298910-e17c-47fa-8a40-8c760d2492fe",
   "metadata": {},
   "outputs": [
    {
     "name": "stdout",
     "output_type": "stream",
     "text": [
      "The user name is shivani kumari\n"
     ]
    }
   ],
   "source": [
    "C.printname()"
   ]
  },
  {
   "cell_type": "code",
   "execution_count": 23,
   "id": "0d6efb90-e6d0-4a67-bae1-ea12204b6838",
   "metadata": {},
   "outputs": [],
   "source": [
    "def sorting(arr):\n",
    "    n=len(arr)\n",
    "    for i in range(n):\n",
    "        for j in range(0,n-i-1):\n",
    "            if arr[j]>arr[j+1]:\n",
    "                arr[j],arr[j+1]=arr[j+1],arr[j]\n",
    "    return arr"
   ]
  },
  {
   "cell_type": "code",
   "execution_count": 24,
   "id": "a8ef5457",
   "metadata": {},
   "outputs": [],
   "source": [
    "import numpy as np \n"
   ]
  },
  {
   "cell_type": "code",
   "execution_count": 25,
   "id": "53aecffa",
   "metadata": {},
   "outputs": [],
   "source": [
    "li=[45,22,12,85,36,15,12]\n",
    "myarray=np.array(li)"
   ]
  },
  {
   "cell_type": "code",
   "execution_count": 26,
   "id": "892ac8e5",
   "metadata": {},
   "outputs": [
    {
     "data": {
      "text/plain": [
       "array([45, 22, 12, 85, 36, 15, 12])"
      ]
     },
     "execution_count": 26,
     "metadata": {},
     "output_type": "execute_result"
    }
   ],
   "source": [
    "myarray"
   ]
  },
  {
   "cell_type": "code",
   "execution_count": 27,
   "id": "bffac8c4",
   "metadata": {},
   "outputs": [
    {
     "data": {
      "text/plain": [
       "[12, 12, 15, 22, 36, 45, 85]"
      ]
     },
     "execution_count": 27,
     "metadata": {},
     "output_type": "execute_result"
    }
   ],
   "source": [
    "sorting(li)"
   ]
  },
  {
   "cell_type": "code",
   "execution_count": 9,
   "id": "d51677d6",
   "metadata": {},
   "outputs": [],
   "source": [
    "# difference Between list and Tuple \n",
    "\n",
    "list1=[45,69,58,65,42,'sam','ram']\n",
    "tuple1=(45,69,58,65,42,'sam','ram')\n",
    "\n",
    "\n",
    "list1[1]=12"
   ]
  },
  {
   "cell_type": "code",
   "execution_count": 40,
   "id": "bb59ae7a",
   "metadata": {},
   "outputs": [],
   "source": [
    "#add letters of string in the list\n",
    "#part 2\n",
    "\n",
    "def convert_into_list(name):\n",
    "    temp=[]\n",
    "    for i in name:\n",
    "        if i==' ':\n",
    "            pass\n",
    "        else:\n",
    "            temp.append(i)\n",
    "    return temp"
   ]
  },
  {
   "cell_type": "code",
   "execution_count": 41,
   "id": "8e75281e",
   "metadata": {},
   "outputs": [],
   "source": [
    "list1=convert_into_list(\"sameer shrinath\")\n",
    "\n"
   ]
  },
  {
   "cell_type": "code",
   "execution_count": 42,
   "id": "c6890cb4",
   "metadata": {},
   "outputs": [
    {
     "data": {
      "text/plain": [
       "['s', 'a', 'm', 'e', 'e', 'r', 's', 'h', 'r', 'i', 'n', 'a', 't', 'h']"
      ]
     },
     "execution_count": 42,
     "metadata": {},
     "output_type": "execute_result"
    }
   ],
   "source": [
    "list1"
   ]
  },
  {
   "cell_type": "code",
   "execution_count": null,
   "id": "20f1d57d",
   "metadata": {},
   "outputs": [],
   "source": []
  },
  {
   "cell_type": "code",
   "execution_count": null,
   "id": "700e2d5d",
   "metadata": {},
   "outputs": [],
   "source": []
  },
  {
   "cell_type": "code",
   "execution_count": null,
   "id": "2f2866a7",
   "metadata": {},
   "outputs": [],
   "source": []
  },
  {
   "cell_type": "code",
   "execution_count": null,
   "id": "7d7844c7",
   "metadata": {},
   "outputs": [],
   "source": []
  },
  {
   "cell_type": "code",
   "execution_count": 17,
   "id": "2697d6b8",
   "metadata": {},
   "outputs": [],
   "source": [
    "\n",
    "\n"
   ]
  },
  {
   "cell_type": "code",
   "execution_count": 20,
   "id": "7c36f544",
   "metadata": {},
   "outputs": [],
   "source": [
    "#converting the list into string\n",
    "\n",
    "def convert_into_string(li):\n",
    "    temp=''\n",
    "    for i in li:\n",
    "        temp+=i\n",
    "    return temp\n"
   ]
  },
  {
   "cell_type": "code",
   "execution_count": 21,
   "id": "dad7c2f6",
   "metadata": {},
   "outputs": [],
   "source": [
    "list2=['s', 'a', 'm', 'e', 'e', 'r', ' ', 's', 'h', 'r', 'i', 'n', 'a', 't', 'h']\n"
   ]
  },
  {
   "cell_type": "code",
   "execution_count": 22,
   "id": "491bb30d",
   "metadata": {},
   "outputs": [
    {
     "data": {
      "text/plain": [
       "'sameer shrinath'"
      ]
     },
     "execution_count": 22,
     "metadata": {},
     "output_type": "execute_result"
    }
   ],
   "source": [
    "convert_into_string(list2)"
   ]
  },
  {
   "cell_type": "code",
   "execution_count": 35,
   "id": "d297db07",
   "metadata": {},
   "outputs": [],
   "source": [
    "#convert a string into tuple\n",
    "def conver_into_tuple(st):\n",
    "    temp=[]\n",
    "    for i in st:\n",
    "        temp.append(i)\n",
    "    return tuple(temp)"
   ]
  },
  {
   "cell_type": "code",
   "execution_count": 38,
   "id": "9436bb8e",
   "metadata": {},
   "outputs": [
    {
     "data": {
      "text/plain": [
       "tuple"
      ]
     },
     "execution_count": 38,
     "metadata": {},
     "output_type": "execute_result"
    }
   ],
   "source": [
    "new=conver_into_tuple('sameer')\n",
    "type(new)"
   ]
  },
  {
   "cell_type": "code",
   "execution_count": 39,
   "id": "ad4f9a0a",
   "metadata": {},
   "outputs": [
    {
     "data": {
      "text/plain": [
       "('s', 'a', 'm', 'e', 'e', 'r')"
      ]
     },
     "execution_count": 39,
     "metadata": {},
     "output_type": "execute_result"
    }
   ],
   "source": [
    "new"
   ]
  },
  {
   "cell_type": "code",
   "execution_count": 43,
   "id": "ed5ab3d9",
   "metadata": {},
   "outputs": [
    {
     "name": "stdout",
     "output_type": "stream",
     "text": [
      "hello\n",
      "hello\n",
      "hello\n",
      "hello\n"
     ]
    }
   ],
   "source": [
    "#Use of for loop \n",
    "for i in range(1,5):\n",
    "    print(\"hello\")\n"
   ]
  },
  {
   "cell_type": "code",
   "execution_count": 44,
   "id": "b90e8ec0",
   "metadata": {},
   "outputs": [
    {
     "name": "stdout",
     "output_type": "stream",
     "text": [
      "4\n",
      "5\n",
      "6\n",
      "7\n",
      "8\n",
      "9\n",
      "10\n",
      "11\n",
      "12\n",
      "13\n"
     ]
    }
   ],
   "source": [
    "#in list\n",
    "li=[4,5,6,7,8,9,10,11,12,13]\n",
    "\n",
    "for i in li:\n",
    "    print(i)"
   ]
  },
  {
   "cell_type": "code",
   "execution_count": 46,
   "id": "969061ec",
   "metadata": {},
   "outputs": [
    {
     "name": "stdout",
     "output_type": "stream",
     "text": [
      "s\n",
      "a\n",
      "m\n",
      "e\n",
      "e\n",
      "r\n",
      " \n",
      "s\n",
      "h\n",
      "r\n",
      "i\n",
      "n\n",
      "a\n",
      "t\n",
      "h\n"
     ]
    }
   ],
   "source": [
    "#in string\n",
    "st='sameer shrinath'\n",
    "for _ in st:\n",
    "    print(_)"
   ]
  },
  {
   "cell_type": "code",
   "execution_count": 48,
   "id": "c8e7250a",
   "metadata": {},
   "outputs": [
    {
     "name": "stdout",
     "output_type": "stream",
     "text": [
      "1\n",
      "2\n",
      "3\n",
      "4\n",
      "5\n",
      "6\n",
      "7\n",
      "8\n",
      "9\n",
      "10\n",
      "11\n",
      "12\n",
      "13\n",
      "14\n",
      "15\n",
      "16\n",
      "17\n",
      "18\n",
      "19\n",
      "20\n",
      "21\n",
      "22\n",
      "23\n",
      "24\n",
      "25\n",
      "26\n",
      "27\n",
      "28\n",
      "29\n",
      "30\n",
      "31\n",
      "32\n",
      "33\n",
      "34\n",
      "35\n",
      "36\n",
      "37\n",
      "38\n",
      "39\n",
      "40\n",
      "41\n",
      "42\n",
      "43\n",
      "44\n",
      "45\n",
      "46\n",
      "47\n",
      "48\n",
      "49\n"
     ]
    }
   ],
   "source": [
    "#in range \n",
    "#Print Number from 1 to 50\n",
    "# start  to n-1\n",
    "for i in range(1,51):\n",
    "    print(i)"
   ]
  },
  {
   "cell_type": "code",
   "execution_count": 51,
   "id": "b4d5c566",
   "metadata": {},
   "outputs": [],
   "source": [
    "#What is concatination in Python\n",
    "fname='sameer'\n",
    "lname=' shrinath'\n",
    "\n",
    "fullname=fname+lname #concatination "
   ]
  },
  {
   "cell_type": "code",
   "execution_count": 52,
   "id": "cf99f71b",
   "metadata": {},
   "outputs": [
    {
     "data": {
      "text/plain": [
       "'sameer shrinath'"
      ]
     },
     "execution_count": 52,
     "metadata": {},
     "output_type": "execute_result"
    }
   ],
   "source": [
    "fullname"
   ]
  },
  {
   "cell_type": "code",
   "execution_count": 53,
   "id": "91542e3d",
   "metadata": {},
   "outputs": [
    {
     "data": {
      "text/plain": [
       "15"
      ]
     },
     "execution_count": 53,
     "metadata": {},
     "output_type": "execute_result"
    }
   ],
   "source": [
    "5+10 # addition "
   ]
  },
  {
   "cell_type": "code",
   "execution_count": 55,
   "id": "94117658",
   "metadata": {},
   "outputs": [
    {
     "data": {
      "text/plain": [
       "'510'"
      ]
     },
     "execution_count": 55,
     "metadata": {},
     "output_type": "execute_result"
    }
   ],
   "source": [
    "\"5\"+\"10\" #concatinated\n"
   ]
  },
  {
   "cell_type": "code",
   "execution_count": null,
   "id": "8a9c0c40",
   "metadata": {},
   "outputs": [],
   "source": [
    "# different type of operators in python\n",
    "that can be used to perform mathematical operations"
   ]
  },
  {
   "cell_type": "code",
   "execution_count": 62,
   "id": "2ed67136",
   "metadata": {},
   "outputs": [
    {
     "data": {
      "text/plain": [
       "105"
      ]
     },
     "execution_count": 62,
     "metadata": {},
     "output_type": "execute_result"
    }
   ],
   "source": [
    "#addition (+)\n",
    "\n",
    "100+5"
   ]
  },
  {
   "cell_type": "code",
   "execution_count": 63,
   "id": "b49779df",
   "metadata": {},
   "outputs": [
    {
     "data": {
      "text/plain": [
       "95"
      ]
     },
     "execution_count": 63,
     "metadata": {},
     "output_type": "execute_result"
    }
   ],
   "source": [
    "#substraction(-)\n",
    "100-5"
   ]
  },
  {
   "cell_type": "code",
   "execution_count": 64,
   "id": "f7f3687d",
   "metadata": {},
   "outputs": [
    {
     "data": {
      "text/plain": [
       "500"
      ]
     },
     "execution_count": 64,
     "metadata": {},
     "output_type": "execute_result"
    }
   ],
   "source": [
    "#multiplication(*)\n",
    "100*5"
   ]
  },
  {
   "cell_type": "code",
   "execution_count": 66,
   "id": "7b62bfe2",
   "metadata": {},
   "outputs": [
    {
     "data": {
      "text/plain": [
       "3.3333333333333335"
      ]
     },
     "execution_count": 66,
     "metadata": {},
     "output_type": "execute_result"
    }
   ],
   "source": [
    "#division(/)\n",
    "10/3"
   ]
  },
  {
   "cell_type": "code",
   "execution_count": 68,
   "id": "ce4ffa6c",
   "metadata": {},
   "outputs": [
    {
     "data": {
      "text/plain": [
       "3"
      ]
     },
     "execution_count": 68,
     "metadata": {},
     "output_type": "execute_result"
    }
   ],
   "source": [
    "#floor division(//)\n",
    "10//3"
   ]
  },
  {
   "cell_type": "code",
   "execution_count": 72,
   "id": "a23f65b1",
   "metadata": {},
   "outputs": [
    {
     "data": {
      "text/plain": [
       "1953125"
      ]
     },
     "execution_count": 72,
     "metadata": {},
     "output_type": "execute_result"
    }
   ],
   "source": [
    "#power(**)\n",
    "5**9\n"
   ]
  },
  {
   "cell_type": "code",
   "execution_count": 73,
   "id": "8fb8efad",
   "metadata": {},
   "outputs": [
    {
     "data": {
      "text/plain": [
       "1"
      ]
     },
     "execution_count": 73,
     "metadata": {},
     "output_type": "execute_result"
    }
   ],
   "source": [
    "#Modulus (%)\n",
    "10%3\n"
   ]
  },
  {
   "cell_type": "code",
   "execution_count": null,
   "id": "2c12b610",
   "metadata": {},
   "outputs": [],
   "source": []
  }
 ],
 "metadata": {
  "kernelspec": {
   "display_name": "Python 3 (ipykernel)",
   "language": "python",
   "name": "python3"
  },
  "language_info": {
   "codemirror_mode": {
    "name": "ipython",
    "version": 3
   },
   "file_extension": ".py",
   "mimetype": "text/x-python",
   "name": "python",
   "nbconvert_exporter": "python",
   "pygments_lexer": "ipython3",
   "version": "3.11.5"
  }
 },
 "nbformat": 4,
 "nbformat_minor": 5
}
