{
 "cells": [
  {
   "cell_type": "code",
   "execution_count": 349,
   "metadata": {},
   "outputs": [],
   "source": [
    "class Node:\n",
    "    def __init__(self, data,next=None):\n",
    "        self.data = data\n",
    "        self.next= next\n",
    "class SLL:\n",
    "    def __init__(self,head=None): \n",
    "        self.head = head\n",
    "        print(\"init is running\")\n",
    "\n",
    "    def is_empty(self):\n",
    "        return self.head==None\n",
    "    \n",
    "    def insert_at_start(self,ndata):\n",
    "        temp=Node(ndata,self.head)\n",
    "        self.head=temp\n",
    "\n",
    "    def insert_at_last(self,ndata):\n",
    "        temp=Node(ndata)\n",
    "        if not self.is_empty():\n",
    "            current=self.head\n",
    "            while current.next:\n",
    "                current=current.next\n",
    "            current.next=temp\n",
    "        else:\n",
    "            self.head=temp\n",
    "    def search_index(self,data):\n",
    "        current=self.head\n",
    "        count=1\n",
    "        while current is not None:\n",
    "            if current.data==data:\n",
    "                return count\n",
    "            current=current.next\n",
    "            count+=1\n",
    "        return None\n",
    "    def search(self,data):\n",
    "        current=self.head\n",
    "        while current is not None:\n",
    "            if current.data==data:\n",
    "                return current\n",
    "            current=current.next\n",
    "        return None\n",
    "    def insert_after(self,temp,data):\n",
    "        if temp is not None:\n",
    "            n=Node(data,temp.next)\n",
    "            temp.next=n\n",
    "    def transversing(self):\n",
    "        current=self.head\n",
    "        while current:\n",
    "            print(current.data,end=\"->\")\n",
    "            current=current.next\n",
    "        print(None)\n",
    "    def delete_from_beg(self):\n",
    "        if self.head is not None:\n",
    "            self.head=self.head.next\n",
    "        else:\n",
    "            self.head=None\n",
    "    def delete_from_end(self):\n",
    "        if self.head==None:\n",
    "            pass\n",
    "        elif self.head.next is not None:\n",
    "            current=self.head\n",
    "            while current.next.next is not None:\n",
    "                current=current.next\n",
    "            current.next=None\n",
    "        \n",
    "        else:\n",
    "            self.head=None\n",
    "    def delete_the_value(self,value):\n",
    "        if self.head.data==value:\n",
    "            self.delete_from_beg()\n",
    "        else:\n",
    "            temp=self.head\n",
    "            while temp.next is not None:\n",
    "                if temp.next.data==value:\n",
    "                    if temp.next.next==None:\n",
    "                        self.delete_from_end()\n",
    "                    else:\n",
    "                        temp.next=temp.next.next\n",
    "\n",
    "                    return\n",
    "                temp=temp.next\n",
    "                \n",
    "        \n",
    "\n",
    "\n",
    "            \n",
    "            \n",
    "\n",
    "\n",
    "\n"
   ]
  },
  {
   "cell_type": "code",
   "execution_count": 350,
   "metadata": {},
   "outputs": [
    {
     "name": "stdout",
     "output_type": "stream",
     "text": [
      "init is running\n"
     ]
    }
   ],
   "source": [
    "samir=SLL()"
   ]
  },
  {
   "cell_type": "code",
   "execution_count": 351,
   "metadata": {},
   "outputs": [
    {
     "data": {
      "text/plain": [
       "True"
      ]
     },
     "execution_count": 351,
     "metadata": {},
     "output_type": "execute_result"
    }
   ],
   "source": [
    "samir.is_empty()"
   ]
  },
  {
   "cell_type": "code",
   "execution_count": 352,
   "metadata": {},
   "outputs": [
    {
     "name": "stdout",
     "output_type": "stream",
     "text": [
      "None\n"
     ]
    }
   ],
   "source": [
    "samir.transversing()"
   ]
  },
  {
   "cell_type": "code",
   "execution_count": 353,
   "metadata": {},
   "outputs": [],
   "source": [
    "samir.insert_at_start(40)\n",
    "\n"
   ]
  },
  {
   "cell_type": "code",
   "execution_count": 354,
   "metadata": {},
   "outputs": [
    {
     "name": "stdout",
     "output_type": "stream",
     "text": [
      "40->None\n"
     ]
    }
   ],
   "source": [
    "samir.transversing()"
   ]
  },
  {
   "cell_type": "code",
   "execution_count": 355,
   "metadata": {},
   "outputs": [
    {
     "data": {
      "text/plain": [
       "False"
      ]
     },
     "execution_count": 355,
     "metadata": {},
     "output_type": "execute_result"
    }
   ],
   "source": [
    "samir.is_empty()"
   ]
  },
  {
   "cell_type": "code",
   "execution_count": 356,
   "metadata": {},
   "outputs": [],
   "source": [
    "samir.insert_at_last(45)\n",
    "samir.insert_at_last(46)\n",
    "samir.insert_at_last(47)"
   ]
  },
  {
   "cell_type": "code",
   "execution_count": 357,
   "metadata": {},
   "outputs": [
    {
     "name": "stdout",
     "output_type": "stream",
     "text": [
      "40->45->46->47->None\n"
     ]
    }
   ],
   "source": [
    "samir.transversing()"
   ]
  },
  {
   "cell_type": "code",
   "execution_count": 358,
   "metadata": {},
   "outputs": [],
   "source": [
    "samir.search_index(39)"
   ]
  },
  {
   "cell_type": "code",
   "execution_count": 359,
   "metadata": {},
   "outputs": [],
   "source": [
    "addi=samir.search(40)"
   ]
  },
  {
   "cell_type": "code",
   "execution_count": 360,
   "metadata": {},
   "outputs": [],
   "source": [
    "samir.insert_after(addi,41)"
   ]
  },
  {
   "cell_type": "code",
   "execution_count": 361,
   "metadata": {},
   "outputs": [
    {
     "name": "stdout",
     "output_type": "stream",
     "text": [
      "40->41->45->46->47->None\n"
     ]
    }
   ],
   "source": [
    "samir.transversing()"
   ]
  },
  {
   "cell_type": "code",
   "execution_count": 362,
   "metadata": {},
   "outputs": [],
   "source": [
    "samir.delete_from_beg()"
   ]
  },
  {
   "cell_type": "code",
   "execution_count": 363,
   "metadata": {},
   "outputs": [
    {
     "name": "stdout",
     "output_type": "stream",
     "text": [
      "41->45->46->47->None\n"
     ]
    }
   ],
   "source": [
    "samir.transversing()"
   ]
  },
  {
   "cell_type": "code",
   "execution_count": 364,
   "metadata": {},
   "outputs": [],
   "source": [
    "samir.delete_the_value(47)"
   ]
  },
  {
   "cell_type": "code",
   "execution_count": 365,
   "metadata": {},
   "outputs": [
    {
     "name": "stdout",
     "output_type": "stream",
     "text": [
      "41->45->46->None\n"
     ]
    }
   ],
   "source": [
    "samir.transversing()"
   ]
  },
  {
   "cell_type": "code",
   "execution_count": null,
   "metadata": {},
   "outputs": [],
   "source": []
  },
  {
   "cell_type": "code",
   "execution_count": null,
   "metadata": {},
   "outputs": [],
   "source": []
  }
 ],
 "metadata": {
  "kernelspec": {
   "display_name": "base",
   "language": "python",
   "name": "python3"
  },
  "language_info": {
   "codemirror_mode": {
    "name": "ipython",
    "version": 3
   },
   "file_extension": ".py",
   "mimetype": "text/x-python",
   "name": "python",
   "nbconvert_exporter": "python",
   "pygments_lexer": "ipython3",
   "version": "3.11.5"
  }
 },
 "nbformat": 4,
 "nbformat_minor": 2
}
