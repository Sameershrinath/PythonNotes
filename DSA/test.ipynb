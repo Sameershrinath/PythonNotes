{
 "cells": [
  {
   "cell_type": "code",
   "execution_count": null,
   "metadata": {},
   "outputs": [],
   "source": [
    "class node:\n",
    "    def __init__(self,data,next=None):\n",
    "        self.data=data\n",
    "        self.next= next\n",
    "    def add_beg(head,new_data):\n",
    "        temp=node(new_data)\n",
    "        if head is None:\n",
    "            head=temp\n",
    "            return head\n",
    "        temp.next=head\n",
    "        head=temp\n",
    "        return head\n",
    "    def Transversing_linkedlist(head):\n",
    "        current=head\n",
    "        while current:\n",
    "            if current.next == None:\n",
    "                print(current.data,end='.')\n",
    "            else:\n",
    "                print(current.data,end='->')\n",
    "            current=current.next\n",
    "    \n"
   ]
  },
  {
   "cell_type": "code",
   "execution_count": null,
   "metadata": {},
   "outputs": [],
   "source": [
    "node1=node(10)\n",
    "node2=node(11)\n",
    "node3=node(12)\n",
    "node4=node(13)"
   ]
  },
  {
   "cell_type": "code",
   "execution_count": null,
   "metadata": {},
   "outputs": [],
   "source": [
    "node1.next=node2\n",
    "node2.next=node3\n",
    "node3.next=node4"
   ]
  },
  {
   "cell_type": "code",
   "execution_count": null,
   "metadata": {},
   "outputs": [],
   "source": [
    "Transversing_linkedlist(node1)"
   ]
  },
  {
   "cell_type": "code",
   "execution_count": null,
   "metadata": {},
   "outputs": [],
   "source": [
    "newnode=node.add_beg(node1,9)"
   ]
  },
  {
   "cell_type": "code",
   "execution_count": null,
   "metadata": {},
   "outputs": [],
   "source": [
    "Transversing_linkedlist(newnode)"
   ]
  },
  {
   "cell_type": "code",
   "execution_count": null,
   "metadata": {},
   "outputs": [],
   "source": [
    "newnode2=node.add_beg(newnode,8)"
   ]
  },
  {
   "cell_type": "code",
   "execution_count": null,
   "metadata": {},
   "outputs": [],
   "source": [
    "Transversing_linkedlist(newnode2)"
   ]
  },
  {
   "cell_type": "code",
   "execution_count": null,
   "metadata": {},
   "outputs": [],
   "source": [
    "a=\"*\"\n",
    "for i in range(1,6):\n",
    "    print(a*i)\n",
    "    "
   ]
  },
  {
   "cell_type": "code",
   "execution_count": null,
   "metadata": {},
   "outputs": [],
   "source": [
    "n=5\n",
    "for i in range(1,n+1):\n",
    "    i=i+2\n",
    "    print(\"*\"*(i))\n"
   ]
  },
  {
   "cell_type": "code",
   "execution_count": null,
   "metadata": {},
   "outputs": [],
   "source": [
    "\n",
    "def fibonacci(prev1,prev2):\n",
    "    \n",
    "    count=2\n",
    "    if count==2:\n",
    "        print(0)\n",
    "        print(1)\n",
    "    if count <= 13:\n",
    "        newfeb=prev1+prev2\n",
    "        print(newfeb)\n",
    "        count+=1\n",
    "        prev1=prev2\n",
    "        prev2=newfeb\n",
    "        fibonacci(prev1,prev2)\n",
    "    else:\n",
    "        return\n",
    "\n",
    "\n"
   ]
  },
  {
   "cell_type": "code",
   "execution_count": 6,
   "metadata": {},
   "outputs": [
    {
     "name": "stdout",
     "output_type": "stream",
     "text": [
      "0\n",
      "1\n",
      "2\n",
      "3\n",
      "5\n",
      "8\n",
      "13\n",
      "21\n",
      "34\n",
      "55\n",
      "89\n"
     ]
    }
   ],
   "source": [
    "prev1=0\n",
    "prev2=1\n",
    "print(prev1)\n",
    "count=10\n",
    "for i in range(count):\n",
    "    newfibo=prev1+prev2\n",
    "    print(newfibo)\n",
    "    prev1=prev2\n",
    "    prev2=newfibo"
   ]
  },
  {
   "cell_type": "code",
   "execution_count": 14,
   "metadata": {},
   "outputs": [],
   "source": [
    "def fibonacci2(prev1, prev2, count):\n",
    "    # Base case: if count exceeds the limit, stop recursion\n",
    "    if count > 13:\n",
    "        return\n",
    "\n",
    "    # Print the first two numbers if this is the start of the sequence\n",
    "    if count == 2:\n",
    "        print(0)\n",
    "        print(1)\n",
    "    \n",
    "    # Calculate the next Fibonacci number\n",
    "    newfeb = prev1 + prev2\n",
    "    print(newfeb)\n",
    "    \n",
    "    # Recursive call with updated values and incremented count\n",
    "    fibonacci(prev2, newfeb, count + 1)\n",
    "\n",
    "# Initial call to the function\n"
   ]
  },
  {
   "cell_type": "code",
   "execution_count": 16,
   "metadata": {},
   "outputs": [
    {
     "name": "stdout",
     "output_type": "stream",
     "text": [
      "0\n",
      "1\n",
      "1\n",
      "2\n",
      "3\n",
      "5\n",
      "8\n",
      "13\n",
      "21\n",
      "34\n",
      "55\n",
      "89\n",
      "144\n",
      "233\n"
     ]
    }
   ],
   "source": [
    "def fibonacci2(prev1, prev2, count):\n",
    "    # Base case: if count exceeds the limit, stop recursion\n",
    "    if count > 13:\n",
    "        return\n",
    "\n",
    "    # Print the first two numbers if this is the start of the sequence\n",
    "    if count == 2:\n",
    "        print(0)\n",
    "        print(1)\n",
    "    \n",
    "    # Calculate the next Fibonacci number\n",
    "    newfeb = prev1 + prev2\n",
    "    print(newfeb)\n",
    "    \n",
    "    # Recursive call with updated values and incremented count\n",
    "    fibonacci2(prev2, newfeb, count + 1)\n",
    "\n",
    "# Initial call to the function\n",
    "fibonacci2(0, 1, 2)\n"
   ]
  },
  {
   "cell_type": "code",
   "execution_count": 4,
   "metadata": {},
   "outputs": [],
   "source": [
    "# app.py\n",
    "from flask import Flask, request\n",
    "\n",
    "app = Flask(__name__)\n",
    "\n",
    "@app.route('/')\n",
    "def home():\n",
    "    return 'Hello, Flask!'\n",
    "\n",
    "@app.route('/greet')\n",
    "def greet():\n",
    "    name = request.args.get('name', 'World')\n",
    "    return f'Hello, {name}!'\n",
    "\n",
    "\n",
    "\n"
   ]
  },
  {
   "cell_type": "code",
   "execution_count": 8,
   "metadata": {},
   "outputs": [
    {
     "name": "stdout",
     "output_type": "stream",
     "text": [
      " * Serving Flask app '__main__'\n",
      " * Debug mode: on\n"
     ]
    },
    {
     "name": "stderr",
     "output_type": "stream",
     "text": [
      "WARNING: This is a development server. Do not use it in a production deployment. Use a production WSGI server instead.\n",
      " * Running on http://127.0.0.1:5001\n",
      "Press CTRL+C to quit\n",
      " * Restarting with watchdog (windowsapi)\n"
     ]
    },
    {
     "ename": "SystemExit",
     "evalue": "1",
     "output_type": "error",
     "traceback": [
      "An exception has occurred, use %tb to see the full traceback.\n",
      "\u001b[1;31mSystemExit\u001b[0m\u001b[1;31m:\u001b[0m 1\n"
     ]
    }
   ],
   "source": []
  },
  {
   "cell_type": "code",
   "execution_count": 108,
   "metadata": {},
   "outputs": [],
   "source": [
    "class Node:\n",
    "    def __init__(self,data,next=None,prev=None):\n",
    "        self.data=data\n",
    "        self.prev=prev\n",
    "        self.next=next\n",
    "\n",
    "class DLL:\n",
    "    def __init__(self,head=None):\n",
    "        self.head=head\n",
    "\n",
    "\n",
    "    def insert_at_beg(self,data):\n",
    "        n=Node(data,None,None)\n",
    "        if self.head is None:\n",
    "            self.head=n\n",
    "        else:\n",
    "            n.next=self.head\n",
    "            self.head=n\n",
    "    \n",
    "    def insert_at_end(self,data):\n",
    "        if self.head is None:\n",
    "            self.insert_at_beg(data)\n",
    "            return\n",
    "        else:\n",
    "            temp=self.head\n",
    "            while temp.next is not None:\n",
    "                temp=temp.next\n",
    "            n=Node(data,None,temp)\n",
    "            temp.next=n\n",
    "    def search(self,data):\n",
    "        if self.head is None:\n",
    "            return None\n",
    "        else:\n",
    "            temp=self.head\n",
    "            if temp.next==data:\n",
    "                return temp\n",
    "            while temp.next is not None:\n",
    "                if temp.data==data:\n",
    "                    return temp\n",
    "                else:\n",
    "                    temp=temp.next\n",
    "            return None\n",
    "            \n",
    "    def insert_after(self,position,data):\n",
    "        if position is None:\n",
    "            return None\n",
    "        else:\n",
    "            n=Node(data,position.next,position)\n",
    "            position.next.prev=n\n",
    "            position.next=n\n",
    "\n",
    "        \n",
    "    def print_list(self):\n",
    "        temp=self.head\n",
    "        while temp is not None:\n",
    "            print(temp.data,end=\"->\")\n",
    "            temp=temp.next\n",
    "        print(None)\n",
    "\n",
    "\n"
   ]
  },
  {
   "cell_type": "code",
   "execution_count": 120,
   "metadata": {},
   "outputs": [],
   "source": [
    "dll=DLL()"
   ]
  },
  {
   "cell_type": "code",
   "execution_count": 121,
   "metadata": {},
   "outputs": [],
   "source": [
    "dll.insert_at_beg(45)\n",
    "dll.insert_at_beg(44)"
   ]
  },
  {
   "cell_type": "code",
   "execution_count": 122,
   "metadata": {},
   "outputs": [
    {
     "name": "stdout",
     "output_type": "stream",
     "text": [
      "44->45->None\n"
     ]
    }
   ],
   "source": [
    "dll.print_list()"
   ]
  },
  {
   "cell_type": "code",
   "execution_count": 123,
   "metadata": {},
   "outputs": [],
   "source": [
    "dll.insert_at_end(46)\n",
    "dll.insert_at_end(47)"
   ]
  },
  {
   "cell_type": "code",
   "execution_count": 124,
   "metadata": {},
   "outputs": [
    {
     "name": "stdout",
     "output_type": "stream",
     "text": [
      "44->45->46->47->None\n"
     ]
    }
   ],
   "source": [
    "dll.print_list()"
   ]
  },
  {
   "cell_type": "code",
   "execution_count": 125,
   "metadata": {},
   "outputs": [],
   "source": [
    "new=dll.search(44)"
   ]
  },
  {
   "cell_type": "code",
   "execution_count": 126,
   "metadata": {},
   "outputs": [],
   "source": [
    "dll.insert_after(new,44.5)\n",
    "new2=dll.search(44.5)"
   ]
  },
  {
   "cell_type": "code",
   "execution_count": 128,
   "metadata": {},
   "outputs": [],
   "source": [
    "dll.insert_after(new2,44.6)"
   ]
  },
  {
   "cell_type": "code",
   "execution_count": 1,
   "metadata": {},
   "outputs": [
    {
     "ename": "NameError",
     "evalue": "name 'dll' is not defined",
     "output_type": "error",
     "traceback": [
      "\u001b[1;31m---------------------------------------------------------------------------\u001b[0m",
      "\u001b[1;31mNameError\u001b[0m                                 Traceback (most recent call last)",
      "Cell \u001b[1;32mIn[1], line 1\u001b[0m\n\u001b[1;32m----> 1\u001b[0m dll\u001b[38;5;241m.\u001b[39mprint_list()\n",
      "\u001b[1;31mNameError\u001b[0m: name 'dll' is not defined"
     ]
    }
   ],
   "source": [
    "dll.print_list()"
   ]
  },
  {
   "cell_type": "code",
   "execution_count": null,
   "metadata": {},
   "outputs": [],
   "source": []
  },
  {
   "cell_type": "code",
   "execution_count": 11,
   "metadata": {},
   "outputs": [
    {
     "name": "stderr",
     "output_type": "stream",
     "text": [
      "C:\\Users\\Samee\\AppData\\Local\\Temp\\ipykernel_18028\\3437624822.py:15: FutureWarning: Passing `palette` without assigning `hue` is deprecated.\n",
      "  sns.stripplot(x=\"category\",y=\"value\",data=df,size=10,palette=\"Set2\",jitter=True)\n",
      "c:\\Users\\Samee\\anaconda3\\Lib\\site-packages\\seaborn\\_oldcore.py:1119: FutureWarning: use_inf_as_na option is deprecated and will be removed in a future version. Convert inf values to NaN before operating instead.\n",
      "  with pd.option_context('mode.use_inf_as_na', True):\n",
      "c:\\Users\\Samee\\anaconda3\\Lib\\site-packages\\seaborn\\_oldcore.py:1119: FutureWarning: use_inf_as_na option is deprecated and will be removed in a future version. Convert inf values to NaN before operating instead.\n",
      "  with pd.option_context('mode.use_inf_as_na', True):\n"
     ]
    },
    {
     "data": {
      "image/png": "[encoded data removed]",
      "text/plain": [
       "<Figure size 800x600 with 1 Axes>"
      ]
     },
     "metadata": {},
     "output_type": "display_data"
    }
   ],
   "source": [
    "import numpy as np \n",
    "import seaborn as sns\n",
    "import matplotlib.pyplot as plt\n",
    "import pandas as pd\n",
    "\n",
    "\n",
    "\n",
    "data={\n",
    "    \"value\":np.random.randint(10,60,size=5),\n",
    "    \"category\":[\"A\",\"B\",\"C\",\"D\",\"E\"]\n",
    "}\n",
    "df=pd.DataFrame(data)\n",
    "plt.figure(figsize=(8,6))\n",
    "\n",
    "sns.stripplot(x=\"category\",y=\"value\",data=df,size=10,palette=\"Set2\",jitter=True)\n",
    "plt.xlabel(\"Books\")\n",
    "plt.ylabel(\"student\")\n",
    "plt.title(\"Book purchased\")\n",
    "plt.show()\n",
    "\n",
    "\n"
   ]
  },
  {
   "cell_type": "code",
   "execution_count": 14,
   "metadata": {},
   "outputs": [
    {
     "name": "stderr",
     "output_type": "stream",
     "text": [
      "C:\\Users\\Samee\\AppData\\Local\\Temp\\ipykernel_18028\\3493290645.py:13: FutureWarning: Passing `palette` without assigning `hue` is deprecated.\n",
      "  sns.stripplot(x=\"category\",y=\"value\",data=df,size=10,palette=\"Set2\")\n",
      "c:\\Users\\Samee\\anaconda3\\Lib\\site-packages\\seaborn\\_oldcore.py:1119: FutureWarning: use_inf_as_na option is deprecated and will be removed in a future version. Convert inf values to NaN before operating instead.\n",
      "  with pd.option_context('mode.use_inf_as_na', True):\n",
      "c:\\Users\\Samee\\anaconda3\\Lib\\site-packages\\seaborn\\_oldcore.py:1119: FutureWarning: use_inf_as_na option is deprecated and will be removed in a future version. Convert inf values to NaN before operating instead.\n",
      "  with pd.option_context('mode.use_inf_as_na', True):\n"
     ]
    },
    {
     "data": {
      "image/png": "[encoded data removed]",
      "text/plain": [
       "<Figure size 640x480 with 1 Axes>"
      ]
     },
     "metadata": {},
     "output_type": "display_data"
    }
   ],
   "source": [
    "import matplotlib.pyplot as plt\n",
    "import numpy as np\n",
    "import seaborn as sns\n",
    "import pandas as pd\n",
    "\n",
    "\n",
    "data={\n",
    "    \"category\":[\"A\",\"B\",\"C\",\"D\",\"E\"],\n",
    "    \"value\":np.random.randint(10,100,size=5)\n",
    "}\n",
    "df=pd.DataFrame(data)\n",
    "\n",
    "sns.stripplot(x=\"category\",y=\"value\",data=df,size=10,palette=\"Set2\")\n",
    "plt.xlabel(\"Books\")\n",
    "plt.ylabel(\"student\")\n",
    "plt.title(\"Books statistics\")\n",
    "plt.show()"
   ]
  },
  {
   "cell_type": "code",
   "execution_count": null,
   "metadata": {},
   "outputs": [],
   "source": []
  },
  {
   "cell_type": "code",
   "execution_count": null,
   "metadata": {},
   "outputs": [],
   "source": []
  },
  {
   "cell_type": "code",
   "execution_count": null,
   "metadata": {},
   "outputs": [],
   "source": []
  }
 ],
 "metadata": {
  "kernelspec": {
   "display_name": "base",
   "language": "python",
   "name": "python3"
  },
  "language_info": {
   "codemirror_mode": {
    "name": "ipython",
    "version": 3
   },
   "file_extension": ".py",
   "mimetype": "text/x-python",
   "name": "python",
   "nbconvert_exporter": "python",
   "pygments_lexer": "ipython3",
   "version": "3.11.5"
  }
 },
 "nbformat": 4,
 "nbformat_minor": 2
}
