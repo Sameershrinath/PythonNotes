{
 "cells": [
  {
   "cell_type": "markdown",
   "metadata": {},
   "source": [
    "# **Practical 10**"
   ]
  },
  {
   "cell_type": "markdown",
   "metadata": {},
   "source": [
    "# Graph Data Structure Implementation with BFS and DFS\n",
    "\n",
    "## Overview\n",
    "This program implements a graph data structure and provides methods to perform Breadth-First Search (BFS) and Depth-First Search (DFS) on the graph. The graph is represented using an adjacency list.\n",
    "\n",
    "## Graph Representation\n",
    "- **Adjacency List**: The graph is represented as a dictionary where the keys are the nodes, and the values are lists of adjacent nodes.\n",
    "\n",
    "## Methods\n",
    "### `add_edge(self, u, v)`\n",
    "Adds an edge between node `u` and node `v` in the graph.\n",
    "\n",
    "### `bfs(self, start_node)`\n",
    "Performs Breadth-First Search (BFS) starting from the `start_node`.\n",
    "- **Parameters**: \n",
    "    - `start_node`: The node from which BFS traversal begins.\n",
    "- **Returns**: \n",
    "    - A list of nodes in the order they are visited during BFS traversal.\n",
    "\n",
    "### `dfs(self, start_node)`\n",
    "Performs Depth-First Search (DFS) starting from the `start_node`.\n",
    "- **Parameters**: \n",
    "    - `start_node`: The node from which DFS traversal begins.\n",
    "- **Returns**: \n",
    "    - A list of nodes in the order they are visited during DFS traversal.\n",
    "\n",
    "## BFS (Breadth-First Search)\n",
    "- **Algorithm**:\n",
    "    1. Initialize a queue and enqueue the `start_node`.\n",
    "    2. Mark the `start_node` as visited.\n",
    "    3. While the queue is not empty:\n",
    "         - Dequeue a node from the queue.\n",
    "         - Visit all its adjacent nodes that have not been visited.\n",
    "         - Enqueue each unvisited adjacent node and mark it as visited.\n",
    "- **Use Case**: BFS is useful for finding the shortest path in an unweighted graph.\n",
    "\n",
    "## DFS (Depth-First Search)\n",
    "- **Algorithm**:\n",
    "    1. Initialize a stack and push the `start_node`.\n",
    "    2. Mark the `start_node` as visited.\n",
    "    3. While the stack is not empty:\n",
    "         - Pop a node from the stack.\n",
    "         - Visit all its adjacent nodes that have not been visited.\n",
    "         - Push each unvisited adjacent node onto the stack and mark it as visited.\n",
    "- **Use Case**: DFS is useful for exploring all possible paths in a graph and for topological sorting.\n",
    "\n"
   ]
  },
  {
   "cell_type": "code",
   "execution_count": 1,
   "metadata": {},
   "outputs": [
    {
     "name": "stdout",
     "output_type": "stream",
     "text": [
      "BFS: [0, 1, 2, 3]\n",
      "DFS: [0, 2, 3, 1]\n"
     ]
    }
   ],
   "source": [
    "class Graph:\n",
    "    def __init__(self):\n",
    "        self.graph = {}\n",
    "\n",
    "    def add_edge(self, u, v):\n",
    "        if u not in self.graph:\n",
    "            self.graph[u] = []\n",
    "        if v not in self.graph:\n",
    "            self.graph[v] = []\n",
    "        self.graph[u].append(v)\n",
    "        self.graph[v].append(u)\n",
    "\n",
    "    def bfs(self, start_node):\n",
    "        visited = set()\n",
    "        queue = [start_node]\n",
    "        visited.add(start_node)\n",
    "        bfs_order = []\n",
    "\n",
    "        while queue:\n",
    "            node = queue.pop(0)\n",
    "            bfs_order.append(node)\n",
    "\n",
    "            for neighbor in self.graph[node]:\n",
    "                if neighbor not in visited:\n",
    "                    queue.append(neighbor)\n",
    "                    visited.add(neighbor)\n",
    "\n",
    "        return bfs_order\n",
    "\n",
    "    def dfs(self, start_node):\n",
    "        visited = set()\n",
    "        stack = [start_node]\n",
    "        dfs_order = []\n",
    "\n",
    "        while stack:\n",
    "            node = stack.pop()\n",
    "            if node not in visited:\n",
    "                dfs_order.append(node)\n",
    "                visited.add(node)\n",
    "\n",
    "                for neighbor in self.graph[node]:\n",
    "                    if neighbor not in visited:\n",
    "                        stack.append(neighbor)\n",
    "\n",
    "        return dfs_order\n",
    "\n",
    "# Example usage:\n",
    "g = Graph()\n",
    "g.add_edge(0, 1)\n",
    "g.add_edge(0, 2)\n",
    "g.add_edge(1, 2)\n",
    "g.add_edge(2, 3)\n",
    "\n",
    "print(\"BFS:\", g.bfs(0))\n",
    "print(\"DFS:\", g.dfs(0))"
   ]
  },
  {
   "cell_type": "markdown",
   "metadata": {},
   "source": []
  }
 ],
 "metadata": {
  "kernelspec": {
   "display_name": "base",
   "language": "python",
   "name": "python3"
  },
  "language_info": {
   "codemirror_mode": {
    "name": "ipython",
    "version": 3
   },
   "file_extension": ".py",
   "mimetype": "text/x-python",
   "name": "python",
   "nbconvert_exporter": "python",
   "pygments_lexer": "ipython3",
   "version": "3.11.5"
  }
 },
 "nbformat": 4,
 "nbformat_minor": 2
}
