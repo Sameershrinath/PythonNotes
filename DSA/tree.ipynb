{
 "cells": [
  {
   "cell_type": "markdown",
   "metadata": {},
   "source": [
    "\n",
    "## Tree Data Structure\n",
    "\n",
    "A tree is a widely used abstract data type that simulates a hierarchical tree structure with a set of connected nodes. Each node in a tree has zero or more child nodes, and at most one parent node. The top node in a tree is called the root node, and nodes with no children are called leaf nodes.\n",
    "\n",
    "### Key Terminologies:\n",
    "- **Root**: The top node in a tree.\n",
    "- **Parent**: A node that has one or more child nodes.\n",
    "- **Child**: A node that has a parent node.\n",
    "- **Leaf**: A node that does not have any children.\n",
    "- **Subtree**: A tree consisting of a node and its descendants.\n",
    "- **Depth**: The length of the path from the root to a node.\n",
    "- **Height**: The length of the path from a node to the deepest leaf.\n",
    "\n",
    "### Types of Trees:\n",
    "- **Binary Tree**: A tree in which each node has at most two children.\n",
    "- **Binary Search Tree (BST)**: A binary tree in which for each node, the left subtree contains only nodes with values less than the node's value, and the right subtree contains only nodes with values greater than the node's value.\n",
    "- **Balanced Tree**: A tree where the height of the left and right subtrees of any node differ by at most one.\n",
    "- **Complete Binary Tree**: A binary tree in which all levels are completely filled except possibly for the last level, which is filled from left to right.\n",
    "\n",
    "### Tree Traversals:\n",
    "Tree traversal is a process of visiting all the nodes in a tree in a specific order. Common types of tree traversals include:\n",
    "1. **Pre-order Traversal**: Visit the root node first, then recursively visit the left subtree, followed by the right subtree.\n",
    "2. **In-order Traversal**: Recursively visit the left subtree first, then visit the root node, followed by the right subtree.\n",
    "3. **Post-order Traversal**: Recursively visit the left subtree first, then the right subtree, and finally visit the root node.\n",
    "\n",
    "Trees are used in various applications such as representing hierarchical data, organizing data for quick search, insertion, and deletion, and in algorithms like Huffman coding."
   ]
  },
  {
   "cell_type": "markdown",
   "metadata": {},
   "source": [
    "# **Prectical 09**\n",
    "# <span style=\"color:green\">Tree Data Structure</span>\n"
   ]
  },
  {
   "cell_type": "markdown",
   "metadata": {},
   "source": [
    "In this notebook, we are working with a simple binary tree data structure. Below is the structure of the tree we are using:\n",
    "\n",
    "\n",
    "We have implemented three types of tree traversals:\n",
    "\n",
    "1. **Pre-order Traversal**: Visit the root node first, then recursively visit the left subtree, followed by the right subtree.\n",
    "2. **In-order Traversal**: Recursively visit the left subtree first, then visit the root node, followed by the right subtree.\n",
    "3. **Post-order Traversal**: Recursively visit the left subtree first, then the right subtree, and finally visit the root node.\n",
    "\n",
    "Here are the traversal results for the given tree:\n",
    "\n",
    "- **Pre-order Traversal**: 1 2 4 5 3\n",
    "- **In-order Traversal**: 4 2 5 1 3\n",
    "- **Post-order Traversal**: 4 5 2 3 1"
   ]
  },
  {
   "cell_type": "code",
   "execution_count": 1,
   "metadata": {},
   "outputs": [
    {
     "name": "stdout",
     "output_type": "stream",
     "text": [
      "Pre-order traversal:\n",
      "1 2 4 5 3 \n",
      "In-order traversal:\n",
      "4 2 5 1 3 \n",
      "Post-order traversal:\n",
      "4 5 2 3 1 "
     ]
    }
   ],
   "source": [
    "class Node:\n",
    "    def __init__(self, key):\n",
    "        self.left = None\n",
    "        self.right = None\n",
    "        self.val = key\n",
    "\n",
    "def pre_order_traversal(root):\n",
    "    if root:\n",
    "        print(root.val, end=' ')\n",
    "        pre_order_traversal(root.left)\n",
    "        pre_order_traversal(root.right)\n",
    "\n",
    "def in_order_traversal(root):\n",
    "    if root:\n",
    "        in_order_traversal(root.left)\n",
    "        print(root.val, end=' ')\n",
    "        in_order_traversal(root.right)\n",
    "\n",
    "def post_order_traversal(root):\n",
    "    if root:\n",
    "        post_order_traversal(root.left)\n",
    "        post_order_traversal(root.right)\n",
    "        print(root.val, end=' ')\n",
    "\n",
    "# Example usage:\n",
    "# Creating a simple tree\n",
    "#        1\n",
    "#       / \\\n",
    "#      2   3\n",
    "#     / \\\n",
    "#    4   5\n",
    "\n",
    "root = Node(1)\n",
    "root.left = Node(2)\n",
    "root.right = Node(3)\n",
    "root.left.left = Node(4)\n",
    "root.left.right = Node(5)\n",
    "\n",
    "print(\"Pre-order traversal:\")\n",
    "pre_order_traversal(root)\n",
    "print(\"\\nIn-order traversal:\")\n",
    "in_order_traversal(root)\n",
    "print(\"\\nPost-order traversal:\")\n",
    "post_order_traversal(root)"
   ]
  },
  {
   "cell_type": "code",
   "execution_count": null,
   "metadata": {},
   "outputs": [],
   "source": []
  }
 ],
 "metadata": {
  "kernelspec": {
   "display_name": "base",
   "language": "python",
   "name": "python3"
  },
  "language_info": {
   "codemirror_mode": {
    "name": "ipython",
    "version": 3
   },
   "file_extension": ".py",
   "mimetype": "text/x-python",
   "name": "python",
   "nbconvert_exporter": "python",
   "pygments_lexer": "ipython3",
   "version": "3.11.5"
  }
 },
 "nbformat": 4,
 "nbformat_minor": 2
}
