{
 "cells": [
  {
   "cell_type": "markdown",
   "metadata": {},
   "source": [
    "# **BootCamp 2024**"
   ]
  },
  {
   "cell_type": "markdown",
   "metadata": {},
   "source": [
    "## **Day 1**"
   ]
  },
  {
   "cell_type": "markdown",
   "metadata": {},
   "source": [
    "### Assignment 1"
   ]
  },
  {
   "cell_type": "code",
   "execution_count": 1,
   "metadata": {},
   "outputs": [
    {
     "name": "stdout",
     "output_type": "stream",
     "text": [
      "      *\n",
      "     ***\n",
      "    *****\n",
      "   *******\n",
      "  *********\n",
      " ***********\n",
      "*************\n"
     ]
    }
   ],
   "source": [
    "#Draw the Star pattern (3)\n",
    "n = 7  \n",
    "for i in range(n):\n",
    "    print(' ' * (n - i - 1) + '*' * (2 * i + 1))\n"
   ]
  },
  {
   "cell_type": "code",
   "execution_count": 18,
   "metadata": {},
   "outputs": [
    {
     "name": "stdout",
     "output_type": "stream",
     "text": [
      " ***********\n",
      "  *********\n",
      "   *******\n",
      "    *****\n",
      "     ***\n",
      "      *\n"
     ]
    }
   ],
   "source": [
    "#Draw the Star pattern (6)\n",
    "for i in range(n-2, -1, -1):\n",
    "    print(' ' * (n - i - 1) + '*' * (2 * i + 1))"
   ]
  },
  {
   "cell_type": "code",
   "execution_count": 1,
   "metadata": {},
   "outputs": [
    {
     "name": "stdout",
     "output_type": "stream",
     "text": [
      "      1 \n",
      "     1 2 \n",
      "    1 2 3 \n",
      "   1 2 3 4 \n",
      "  1 2 3 4 5 \n",
      " 1 2 3 4 5 6 \n"
     ]
    }
   ],
   "source": [
    "#Draw the Star pattern (2)\n",
    "n = 7\n",
    "for i in range(1, n):\n",
    "    print(' ' * (n - i), end='')\n",
    "    for j in range(1, i+1):\n",
    "        print(j, end=' ')\n",
    "    print()"
   ]
  },
  {
   "cell_type": "code",
   "execution_count": 2,
   "metadata": {},
   "outputs": [
    {
     "name": "stdout",
     "output_type": "stream",
     "text": [
      "      1 \n",
      "     2 2 \n",
      "    3 3 3 \n",
      "   4 4 4 4 \n",
      "  5 5 5 5 5 \n",
      " 6 6 6 6 6 6 \n"
     ]
    }
   ],
   "source": [
    "#Draw the Star pattern (1)\n",
    "n = 7\n",
    "for i in range(1, n):\n",
    "    print(' ' * (n - i), end='')\n",
    "    for j in range(i):\n",
    "        print(i, end=' ')\n",
    "    print()"
   ]
  },
  {
   "cell_type": "code",
   "execution_count": 27,
   "metadata": {},
   "outputs": [
    {
     "name": "stdout",
     "output_type": "stream",
     "text": [
      "7 7 7 7 7 7 7 \n",
      " 6 6 6 6 6 6 \n",
      "  5 5 5 5 5 \n",
      "   4 4 4 4 \n",
      "    3 3 3 \n",
      "     2 2 \n",
      "      1 \n",
      "       \n"
     ]
    }
   ],
   "source": [
    "#Draw the Star pattern (7)\n",
    "n =7\n",
    "for i in range(n, -1, -1):\n",
    "    print(' ' * (n - i), end='')\n",
    "    for j in range(i):\n",
    "        print(i, end=' ')\n",
    "    print()"
   ]
  },
  {
   "cell_type": "code",
   "execution_count": 24,
   "metadata": {},
   "outputs": [
    {
     "name": "stdout",
     "output_type": "stream",
     "text": [
      "               1\n",
      "   1\n",
      "2\n",
      "  1\n",
      "2\n",
      "3\n",
      " 1\n",
      "2\n",
      "3\n",
      "4\n",
      "1\n",
      "2\n",
      "3\n",
      "4\n",
      "5\n"
     ]
    }
   ],
   "source": [
    "n=7\n",
    "for i in range(n):\n",
    "    print(' ' * (n - i - 1),end='')\n",
    "    for j in range(1,i):\n",
    "        print(j)\n",
    "\n",
    "        \n"
   ]
  },
  {
   "cell_type": "code",
   "execution_count": null,
   "metadata": {},
   "outputs": [],
   "source": []
  },
  {
   "cell_type": "markdown",
   "metadata": {},
   "source": [
    "## **Day 2**"
   ]
  },
  {
   "cell_type": "code",
   "execution_count": 3,
   "metadata": {},
   "outputs": [
    {
     "name": "stdout",
     "output_type": "stream",
     "text": [
      "Employ name is: sameer \n",
      " Employee Id: 2347454 \n",
      " Employee salary: 150000\n"
     ]
    }
   ],
   "source": [
    "class Employee:\n",
    "    def __init__(self,name,empid,salary):\n",
    "        self.name=name\n",
    "        self.empid=empid\n",
    "        self.salary=salary\n",
    "    def print(self):\n",
    "        print(f\"Employ name is: {self.name} \\n Employee Id: {self.empid} \\n Employee salary: {self.salary}\")\n",
    "\n",
    "emp1=Employee(\"sameer\",2347454,150000)\n",
    "emp1.print()"
   ]
  },
  {
   "cell_type": "markdown",
   "metadata": {},
   "source": [
    "## **Assignment 2**"
   ]
  },
  {
   "cell_type": "code",
   "execution_count": 4,
   "metadata": {},
   "outputs": [
    {
     "name": "stdout",
     "output_type": "stream",
     "text": [
      "Name: sameer Shrinath \n",
      " Age: 19\n"
     ]
    }
   ],
   "source": [
    "#Question 1\n",
    "class Person:\n",
    "    def __init__(self,name,age):\n",
    "        self.name=name\n",
    "        self.age=age\n",
    "    def show(self):\n",
    "        print(f'Name: {self.name} \\n Age: {self.age}')\n",
    "\n",
    "person1=Person(\"sameer Shrinath\",19)\n",
    "person1.show()\n",
    "    "
   ]
  },
  {
   "cell_type": "code",
   "execution_count": 8,
   "metadata": {},
   "outputs": [
    {
     "name": "stdout",
     "output_type": "stream",
     "text": [
      "Radius is 5\n"
     ]
    },
    {
     "data": {
      "text/plain": [
       "31.7"
      ]
     },
     "execution_count": 8,
     "metadata": {},
     "output_type": "execute_result"
    }
   ],
   "source": [
    "#Question 2\n",
    "class Circle:\n",
    "    def __init__(self):\n",
    "        self.__radius=0\n",
    "\n",
    "    #setter\n",
    "    def set_radius(self,radius):\n",
    "        self.__radius=radius\n",
    "\n",
    "    #getter\n",
    "    def get_radius(self):\n",
    "        print(f'Radius is {self.__radius}')\n",
    "    \n",
    "    def getArea(self):\n",
    "        area=3.17*(self.__radius*self.__radius)\n",
    "        return area\n",
    "    def getCircum(self):\n",
    "        circum=2*3.17*self.__radius\n",
    "        return circum\n",
    "\n",
    "c=Circle()\n",
    "c.set_radius(5)\n",
    "c.get_radius()\n",
    "c.getArea()\n",
    "c.getCircum()"
   ]
  },
  {
   "cell_type": "code",
   "execution_count": 9,
   "metadata": {},
   "outputs": [
    {
     "name": "stdout",
     "output_type": "stream",
     "text": [
      "DIMENSION is 5 X 10\n",
      "Area is 50\n"
     ]
    }
   ],
   "source": [
    "#Question 3\n",
    "class Rectangle:\n",
    "    def __init__(self):\n",
    "        self.__length=0\n",
    "        self.__breadth=0\n",
    "    def setDimension(self,length,breadth):\n",
    "        self.__length=length\n",
    "        self.__breadth=breadth\n",
    "    def getDimension(self):\n",
    "        print(f'DIMENSION is {self.__length} X {self.__breadth}')\n",
    "    def getArea(self):\n",
    "        print(f'Area is {self.__length*self.__breadth}')\n",
    "\n",
    "rec=Rectangle()\n",
    "rec.setDimension(5,10)\n",
    "rec.getDimension()\n",
    "rec.getArea()"
   ]
  },
  {
   "cell_type": "code",
   "execution_count": 10,
   "metadata": {},
   "outputs": [
    {
     "name": "stdout",
     "output_type": "stream",
     "text": [
      "Title: Killer \n",
      " Bookid: 2345 \n",
      " Price: 5500\n"
     ]
    }
   ],
   "source": [
    "#Question 4\n",
    "class Book:\n",
    "    def __init__(self, title,bookid,price):\n",
    "        self.title=title\n",
    "        self.bookid=bookid\n",
    "        self.price=price\n",
    "    def show(self):\n",
    "        print(f'Title: {self.title} \\n Bookid: {self.bookid} \\n Price: {self.price}')\n",
    "\n",
    "book=Book(\"Killer\",2345,5500)\n",
    "book.show()\n",
    "\n"
   ]
  },
  {
   "cell_type": "code",
   "execution_count": 7,
   "metadata": {},
   "outputs": [
    {
     "name": "stdout",
     "output_type": "stream",
     "text": [
      "sameer Shrinath\n",
      "sumit tak\n",
      "sumit praksh\n"
     ]
    }
   ],
   "source": [
    "#Question 5\n",
    "class Team:\n",
    "    def __init__(self):\n",
    "        self.team=[]\n",
    "    def insert_Player(self,name):\n",
    "        self.team.append(name)\n",
    "    def show_player(self):\n",
    "        for i in self.team:\n",
    "            print(i)\n",
    "\n",
    "team=Team()\n",
    "team.insert_Player(\"sameer Shrinath\")\n",
    "team.insert_Player(\"sumit tak\")\n",
    "team.insert_Player(\"sumit praksh\")\n",
    "team.show_player()"
   ]
  },
  {
   "cell_type": "code",
   "execution_count": null,
   "metadata": {},
   "outputs": [],
   "source": []
  },
  {
   "cell_type": "code",
   "execution_count": null,
   "metadata": {},
   "outputs": [],
   "source": []
  },
  {
   "cell_type": "code",
   "execution_count": null,
   "metadata": {},
   "outputs": [],
   "source": []
  },
  {
   "cell_type": "code",
   "execution_count": null,
   "metadata": {},
   "outputs": [],
   "source": []
  }
 ],
 "metadata": {
  "kernelspec": {
   "display_name": "base",
   "language": "python",
   "name": "python3"
  },
  "language_info": {
   "codemirror_mode": {
    "name": "ipython",
    "version": 3
   },
   "file_extension": ".py",
   "mimetype": "text/x-python",
   "name": "python",
   "nbconvert_exporter": "python",
   "pygments_lexer": "ipython3",
   "version": "3.11.5"
  }
 },
 "nbformat": 4,
 "nbformat_minor": 2
}
