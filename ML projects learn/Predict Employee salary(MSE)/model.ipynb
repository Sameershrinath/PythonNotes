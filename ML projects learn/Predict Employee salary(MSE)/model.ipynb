{
 "cells": [
  {
   "cell_type": "markdown",
   "metadata": {},
   "source": [
    "# **Learning About MSE**"
   ]
  },
  {
   "cell_type": "markdown",
   "metadata": {},
   "source": [
    "### **Taking the small data set**"
   ]
  },
  {
   "cell_type": "code",
   "execution_count": 3,
   "metadata": {},
   "outputs": [
    {
     "name": "stdout",
     "output_type": "stream",
     "text": [
      "Mean Squared Error: 8.163265306122472\n",
      "\n",
      "Test Set (Years of Experience vs Actual Salary):\n",
      "   YearsExperience  Actual Salary\n",
      "1                2             40\n",
      "\n",
      "Predicted Salary based on Years of Experience:\n",
      "   YearsExperience  Predicted Salary\n",
      "1                2         42.857143\n",
      "\n",
      "The predicted salary for 10.0 years of experience is: $104.57k\n"
     ]
    },
    {
     "name": "stderr",
     "output_type": "stream",
     "text": [
      "c:\\Users\\Samee\\anaconda3\\Lib\\site-packages\\sklearn\\base.py:439: UserWarning: X does not have valid feature names, but LinearRegression was fitted with feature names\n",
      "  warnings.warn(\n"
     ]
    }
   ],
   "source": [
    "# 1. Import Libraries\n",
    "import numpy as np\n",
    "import pandas as pd\n",
    "from sklearn.model_selection import train_test_split\n",
    "from sklearn.linear_model import LinearRegression\n",
    "from sklearn.metrics import mean_squared_error\n",
    "\n",
    "# 2. Create the Dataset\n",
    "data = {\n",
    "    'YearsExperience': [1, 2, 3, 4, 5],\n",
    "    'Salary': [35, 40, 50, 60, 65]\n",
    "}\n",
    "\n",
    "\n",
    "df = pd.DataFrame(data)\n",
    "\n",
    "# 3. Split the Data into Training and Testing Sets\n",
    "X = df[['YearsExperience']]  # Features (Years of Experience)\n",
    "y = df['Salary']  # Target (Salary)\n",
    "\n",
    "# Splitting the dataset into training (80%) and testing (20%)\n",
    "X_train, X_test, y_train, y_test = train_test_split(X, y, test_size=0.2, random_state=42)\n",
    "\n",
    "# 4. Train the Linear Regression Model\n",
    "model = LinearRegression()\n",
    "model.fit(X_train, y_train)\n",
    "\n",
    "# 5. Test the Model (Make Predictions)\n",
    "y_pred = model.predict(X_test)\n",
    "\n",
    "# 6. Evaluate the Model\n",
    "mse = mean_squared_error(y_test, y_pred)\n",
    "print(f\"Mean Squared Error: {mse}\")\n",
    "\n",
    "# Display the test set and predicted results\n",
    "print(\"\\nTest Set (Years of Experience vs Actual Salary):\")\n",
    "print(pd.DataFrame({'YearsExperience': X_test['YearsExperience'], 'Actual Salary': y_test}))\n",
    "\n",
    "print(\"\\nPredicted Salary based on Years of Experience:\")\n",
    "print(pd.DataFrame({'YearsExperience': X_test['YearsExperience'], 'Predicted Salary': y_pred}))\n",
    "\n",
    "# 7. Take User Input to Predict the Salary\n",
    "years_of_experience = float(input(\"\\nEnter the years of experience to predict the salary: \"))\n",
    "\n",
    "# Reshape the input to match the expected shape for prediction (2D array)\n",
    "user_input = np.array([[years_of_experience]])\n",
    "\n",
    "# Predict salary based on user input\n",
    "predicted_salary = model.predict(user_input)\n",
    "\n",
    "# Display the result\n",
    "print(f\"\\nThe predicted salary for {years_of_experience} years of experience is: ${predicted_salary[0]:.2f}k\")\n"
   ]
  },
  {
   "cell_type": "markdown",
   "metadata": {},
   "source": [
    "### **Taking the relatively big data set**"
   ]
  },
  {
   "cell_type": "code",
   "execution_count": 7,
   "metadata": {},
   "outputs": [
    {
     "name": "stdout",
     "output_type": "stream",
     "text": [
      "Mean Squared Error: 3102669.275094161\n",
      "\n",
      "Test Set (Years of Experience vs Actual Salary):\n",
      "    YearsExperience  Actual Salary\n",
      "20              6.8        91738.0\n",
      "\n",
      "Predicted Salary based on Years of Experience:\n",
      "    YearsExperience  Predicted Salary\n",
      "20              6.8      89976.560454\n",
      "\n",
      "The predicted salary for 10.0 years of experience is: $120180.56k\n"
     ]
    },
    {
     "name": "stderr",
     "output_type": "stream",
     "text": [
      "c:\\Users\\Samee\\anaconda3\\Lib\\site-packages\\sklearn\\base.py:439: UserWarning: X does not have valid feature names, but LinearRegression was fitted with feature names\n",
      "  warnings.warn(\n"
     ]
    }
   ],
   "source": [
    "# 1. Import Libraries\n",
    "import numpy as np\n",
    "import pandas as pd\n",
    "from sklearn.model_selection import train_test_split\n",
    "from sklearn.linear_model import LinearRegression\n",
    "from sklearn.metrics import mean_squared_error\n",
    "\n",
    "# 2. Create the Dataset\n",
    "data = {\n",
    "    'YearsExperience': [\n",
    "        1.1, 1.3, 1.5, 2.0, 2.2, 2.9, 3.0, 3.2, 3.2, 3.7, \n",
    "        3.9, 4.0, 4.0, 4.1, 4.5, 4.9, 5.1, 5.3, 5.9, 6.0, \n",
    "        6.8, 7.1, 7.9, 8.2, 8.7, 9.0, 9.5, 9.6, 10.3, 10.5\n",
    "    ],\n",
    "    'Salary': [\n",
    "        39343.00, 46205.00, 37731.00, 43525.00, 39891.00, 56642.00, 60150.00, \n",
    "        54445.00, 64445.00, 57189.00, 63218.00, 55794.00, 56957.00, 57081.00, \n",
    "        61111.00, 67938.00, 66029.00, 83088.00, 81363.00, 93940.00, 91738.00, \n",
    "        98273.00, 101302.00, 113812.00, 109431.00, 105582.00, 116969.00, \n",
    "        112635.00, 122391.00, 121872.00\n",
    "    ]\n",
    "}\n",
    "df = pd.DataFrame(data)\n",
    "\n",
    "# 3. Split the Data into Training and Testing Sets\n",
    "X = df[['YearsExperience']]  # Features (Years of Experience)\n",
    "y = df['Salary']  # Target (Salary)\n",
    "\n",
    "# Splitting the dataset into training (80%) and testing (20%)\n",
    "X_train, X_test, y_train, y_test = train_test_split(X, y, test_size=0.0000001, random_state=52)\n",
    "\n",
    "# 4. Train the Linear Regression Model\n",
    "model = LinearRegression()\n",
    "model.fit(X_train, y_train)\n",
    "\n",
    "# 5. Test the Model (Make Predictions)\n",
    "y_pred = model.predict(X_test)\n",
    "\n",
    "# 6. Evaluate the Model\n",
    "mse = mean_squared_error(y_test, y_pred)\n",
    "print(f\"Mean Squared Error: {mse}\")\n",
    "\n",
    "# Display the test set and predicted results\n",
    "print(\"\\nTest Set (Years of Experience vs Actual Salary):\")\n",
    "print(pd.DataFrame({'YearsExperience': X_test['YearsExperience'], 'Actual Salary': y_test}))\n",
    "\n",
    "print(\"\\nPredicted Salary based on Years of Experience:\")\n",
    "print(pd.DataFrame({'YearsExperience': X_test['YearsExperience'], 'Predicted Salary': y_pred}))\n",
    "\n",
    "# 7. Take User Input to Predict the Salary\n",
    "years_of_experience = float(input(\"\\nEnter the years of experience to predict the salary: \"))\n",
    "\n",
    "# Reshape the input to match the expected shape for prediction (2D array)\n",
    "user_input = np.array([[years_of_experience]])\n",
    "\n",
    "# Predict salary based on user input\n",
    "predicted_salary = model.predict(user_input)\n",
    "\n",
    "# Display the result\n",
    "print(f\"\\nThe predicted salary for {years_of_experience} years of experience is: ${predicted_salary[0]:.2f}k\")\n"
   ]
  },
  {
   "cell_type": "markdown",
   "metadata": {},
   "source": [
    "### **Conclusion**"
   ]
  },
  {
   "cell_type": "markdown",
   "metadata": {},
   "source": [
    "# Why is the Mean Squared Error (MSE) Larger for the Bigger Dataset?\n",
    "\n",
    "The reason why the **Mean Squared Error (MSE)** is much larger for the bigger dataset compared to the smaller one is primarily due to the complexity of the data and how well the linear regression model fits the data. Let’s break down the key reasons:\n",
    "\n",
    "## 1. Larger Dataset = More Variability:\n",
    "A larger dataset like the second one includes more data points and potentially more variability in the relationship between `YearsExperience` and `Salary`. This variability might introduce more noise or data points that deviate from a perfect linear relationship, causing larger prediction errors.\n",
    "\n",
    "The smaller dataset is simple and may follow a more linear pattern, which means a linear regression model can fit it quite easily, resulting in a lower MSE.\n",
    "\n",
    "## 2. Outliers and Non-linearity:\n",
    "In the larger dataset, there might be some **outliers** or a **non-linear relationship** between experience and salary, especially for higher years of experience. For example, the salaries might not increase proportionally with years of experience. These outliers or deviations from a straight line will increase the MSE because the linear regression model tries to fit a straight line to data that might not follow a perfect linear pattern.\n",
    "\n",
    "The smaller dataset has fewer data points and likely no outliers or significant deviations, so the model can better fit those points.\n",
    "\n",
    "## 3. Underfitting for Complex Data:\n",
    "With the larger dataset, the model might be **underfitting** because linear regression assumes a simple linear relationship between the feature (years of experience) and the target (salary). If the relationship between experience and salary in the larger dataset is more complex, linear regression won’t capture it effectively, leading to higher errors.\n",
    "\n",
    "For instance, salaries in real-world scenarios may not always increase linearly with years of experience; they might plateau or even dip at certain points.\n",
    "\n",
    "## 4. Training/Test Split and Size:\n",
    "In a smaller dataset, even the test set will be very small (just one point in your first example), which can result in artificially low MSE. On the other hand, the larger dataset has a larger test set, and hence, the errors will accumulate across more test points, leading to a larger MSE.\n",
    "\n",
    "---\n",
    "\n",
    "## Example Summary:\n",
    "\n",
    "### Small Dataset:\n",
    "- Only 5 data points, simple pattern.\n",
    "- Model fits well to the small number of points.\n",
    "- **MSE**: 8.16 (very small)\n",
    "\n",
    "### Larger Dataset:\n",
    "- More data points (30), more variability.\n",
    "- Potential non-linear relationships or outliers.\n",
    "- **MSE**: 49,830,096.86 (larger)\n",
    "\n",
    "---\n",
    "\n",
    "## How to Reduce MSE in Larger Datasets:\n",
    "\n",
    "### 1. Use More Advanced Models:\n",
    "Consider using more sophisticated models that can capture non-linear relationships, such as **polynomial regression**, **decision trees**, or **random forests**.\n",
    "\n",
    "### 2. Feature Engineering:\n",
    "Introduce more features that could explain salary variability better, such as **job role**, **location**, or **education**. This might reduce unexplained variability and improve model performance.\n",
    "\n",
    "### 3. Outlier Detection:\n",
    "Analyze the data for **outliers** that might be distorting the model's fit. Removing or handling outliers can improve performance.\n",
    "\n",
    "### 4. Polynomial Regression:\n",
    "If the relationship between experience and salary is non-linear, a **polynomial regression** (degree 2 or 3) can help the model better fit the data.\n",
    "\n"
   ]
  },
  {
   "cell_type": "code",
   "execution_count": null,
   "metadata": {},
   "outputs": [],
   "source": []
  }
 ],
 "metadata": {
  "kernelspec": {
   "display_name": "base",
   "language": "python",
   "name": "python3"
  },
  "language_info": {
   "codemirror_mode": {
    "name": "ipython",
    "version": 3
   },
   "file_extension": ".py",
   "mimetype": "text/x-python",
   "name": "python",
   "nbconvert_exporter": "python",
   "pygments_lexer": "ipython3",
   "version": "3.11.5"
  }
 },
 "nbformat": 4,
 "nbformat_minor": 2
}
